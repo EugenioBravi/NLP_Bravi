{
 "cells": [
  {
   "cell_type": "code",
   "execution_count": 4,
   "metadata": {},
   "outputs": [],
   "source": [
    "import pandas as pd\n",
    "from sklearn.model_selection import train_test_split\n",
    "from sklearn.metrics import accuracy_score, classification_report\n",
    "from sklearn.linear_model import LogisticRegression\n",
    "#import matplotlib.pyplot as plt\n",
    "import numpy as np\n",
    "#from sentence_transformers import SentenceTransformer\n"
   ]
  },
  {
   "cell_type": "markdown",
   "metadata": {},
   "source": [
    "## Analisis de sentimientos"
   ]
  },
  {
   "cell_type": "code",
   "execution_count": 3,
   "metadata": {},
   "outputs": [],
   "source": [
    "dataset_sentimientos = pd.read_csv('./databases/sentimientos.csv')"
   ]
  },
  {
   "cell_type": "code",
   "execution_count": null,
   "metadata": {},
   "outputs": [
    {
     "data": {
      "text/html": [
       "<div>\n",
       "<style scoped>\n",
       "    .dataframe tbody tr th:only-of-type {\n",
       "        vertical-align: middle;\n",
       "    }\n",
       "\n",
       "    .dataframe tbody tr th {\n",
       "        vertical-align: top;\n",
       "    }\n",
       "\n",
       "    .dataframe thead th {\n",
       "        text-align: right;\n",
       "    }\n",
       "</style>\n",
       "<table border=\"1\" class=\"dataframe\">\n",
       "  <thead>\n",
       "    <tr style=\"text-align: right;\">\n",
       "      <th></th>\n",
       "      <th>clase</th>\n",
       "      <th>frase</th>\n",
       "    </tr>\n",
       "  </thead>\n",
       "  <tbody>\n",
       "    <tr>\n",
       "      <th>0</th>\n",
       "      <td>0</td>\n",
       "      <td>me siento un poco nostalgico hoy.</td>\n",
       "    </tr>\n",
       "    <tr>\n",
       "      <th>1</th>\n",
       "      <td>0</td>\n",
       "      <td>todo parece tan gris, como si algo faltara.</td>\n",
       "    </tr>\n",
       "    <tr>\n",
       "      <th>2</th>\n",
       "      <td>0</td>\n",
       "      <td>no tengo ganas de hacer nada, estoy algo decaido.</td>\n",
       "    </tr>\n",
       "    <tr>\n",
       "      <th>3</th>\n",
       "      <td>0</td>\n",
       "      <td>echo de menos esos tiempos felices que ya no v...</td>\n",
       "    </tr>\n",
       "    <tr>\n",
       "      <th>4</th>\n",
       "      <td>0</td>\n",
       "      <td>me invade una sensacion de tristeza, sin motiv...</td>\n",
       "    </tr>\n",
       "  </tbody>\n",
       "</table>\n",
       "</div>"
      ],
      "text/plain": [
       "   clase                                              frase\n",
       "0      0                  me siento un poco nostalgico hoy.\n",
       "1      0        todo parece tan gris, como si algo faltara.\n",
       "2      0  no tengo ganas de hacer nada, estoy algo decaido.\n",
       "3      0  echo de menos esos tiempos felices que ya no v...\n",
       "4      0  me invade una sensacion de tristeza, sin motiv..."
      ]
     },
     "execution_count": 653,
     "metadata": {},
     "output_type": "execute_result"
    }
   ],
   "source": [
    "dataset_sentimientos.head()"
   ]
  },
  {
   "cell_type": "code",
   "execution_count": null,
   "metadata": {},
   "outputs": [
    {
     "name": "stderr",
     "output_type": "stream",
     "text": [
      "c:\\Users\\Usuario\\OneDrive\\Escritorio\\archivos\\projects\\NLP_Bravi\\.venv\\Lib\\site-packages\\huggingface_hub\\file_download.py:139: UserWarning: `huggingface_hub` cache-system uses symlinks by default to efficiently store duplicated files but your machine does not support them in C:\\Users\\Usuario\\.cache\\huggingface\\hub\\models--sentence-transformers--distiluse-base-multilingual-cased-v1. Caching files will still work but in a degraded version that might require more space on your disk. This warning can be disabled by setting the `HF_HUB_DISABLE_SYMLINKS_WARNING` environment variable. For more details, see https://huggingface.co/docs/huggingface_hub/how-to-cache#limitations.\n",
      "To support symlinks on Windows, you either need to activate Developer Mode or to run Python as an administrator. In order to activate developer mode, see this article: https://docs.microsoft.com/en-us/windows/apps/get-started/enable-your-device-for-development\n",
      "  warnings.warn(message)\n"
     ]
    },
    {
     "name": "stdout",
     "output_type": "stream",
     "text": [
      "Precisión Regresión Logística: 0.9393939393939394\n",
      "Reporte de clasificación Regresión Logística:\n",
      "               precision    recall  f1-score   support\n",
      "\n",
      "           0       0.91      0.91      0.91        11\n",
      "           1       0.91      0.91      0.91        11\n",
      "           2       1.00      1.00      1.00        11\n",
      "\n",
      "    accuracy                           0.94        33\n",
      "   macro avg       0.94      0.94      0.94        33\n",
      "weighted avg       0.94      0.94      0.94        33\n",
      "\n"
     ]
    }
   ],
   "source": [
    "model = SentenceTransformer('sentence-transformers/distiluse-base-multilingual-cased-v1') \n",
    "\n",
    "labels = [(0, \"Melancolico\"), (1, \"Ni fu Ni fa\"), (2, \"Alegre\")]\n",
    "\n",
    "# División del dataset\n",
    "X_train, X_test, y_train, y_test = train_test_split(dataset_sentimientos['frase'].to_list(), dataset_sentimientos['clase'].to_list(), test_size=0.2, shuffle=True,random_state=42)\n",
    "\n",
    "# Obtenemos los embeddings de BERT para los conjuntos de entrenamiento y prueba\n",
    "X_train_vectorized = model.encode(X_train)\n",
    "X_test_vectorized = model.encode(X_test)\n",
    "# Creación y entrenamiento del modelo de Regresión Logística Multinomial\n",
    "modelo_LR = LogisticRegression(max_iter=100, solver='lbfgs')\n",
    "modelo_LR.fit(X_train_vectorized, y_train)\n",
    "\n",
    "# Evaluación del modelo de Regresión Logística\n",
    "y_pred_LR = modelo_LR.predict(X_test_vectorized)\n",
    "acc_LR = accuracy_score(y_test, y_pred_LR)\n",
    "report_LR = classification_report(y_test, y_pred_LR, zero_division=1)\n",
    "\n",
    "print(\"Precisión Regresión Logística:\", acc_LR)\n",
    "print(\"Reporte de clasificación Regresión Logística:\\n\", report_LR)\n"
   ]
  },
  {
   "cell_type": "code",
   "execution_count": 671,
   "metadata": {},
   "outputs": [
    {
     "name": "stdout",
     "output_type": "stream",
     "text": [
      "Diferencia encontrada en el índice 8:\n",
      "X_test: me siento como si el dia hubiera pasado desapercibido, sin nada memorable.\n",
      "y_test: 1\n",
      "y_pred_LR: 0\n",
      "\n",
      "Diferencia encontrada en el índice 12:\n",
      "X_test: no encuentro consuelo en nada, todo parece sombrio.\n",
      "y_test: 0\n",
      "y_pred_LR: 1\n",
      "\n"
     ]
    }
   ],
   "source": [
    "for i in range(len(y_test)):\n",
    "    if y_test[i] != y_pred_LR[i]:\n",
    "        print(f\"Diferencia encontrada en el índice {i}:\")\n",
    "        print(f\"X_test: {X_test[i]}\")\n",
    "        print(f\"y_test: {y_test[i]}\")\n",
    "        print(f\"y_pred_LR: {y_pred_LR[i]}\")\n",
    "        print()  # Línea en blanco para separar las salidas"
   ]
  },
  {
   "cell_type": "code",
   "execution_count": 667,
   "metadata": {},
   "outputs": [
    {
     "ename": "AttributeError",
     "evalue": "'SentenceTransformer' object has no attribute 'get_feature_names_out'",
     "output_type": "error",
     "traceback": [
      "\u001b[1;31m---------------------------------------------------------------------------\u001b[0m",
      "\u001b[1;31mAttributeError\u001b[0m                            Traceback (most recent call last)",
      "Cell \u001b[1;32mIn[667], line 2\u001b[0m\n\u001b[0;32m      1\u001b[0m \u001b[38;5;66;03m# Obtén los nombres de las características y los coeficientes\u001b[39;00m\n\u001b[1;32m----> 2\u001b[0m feature_names \u001b[38;5;241m=\u001b[39m \u001b[43mmodel\u001b[49m\u001b[38;5;241;43m.\u001b[39;49m\u001b[43mget_feature_names_out\u001b[49m()\n\u001b[0;32m      3\u001b[0m coef \u001b[38;5;241m=\u001b[39m modelo_LR\u001b[38;5;241m.\u001b[39mcoef_\n\u001b[0;32m      5\u001b[0m \u001b[38;5;66;03m# Visualiza los coeficientes más importantes para cada clase\u001b[39;00m\n",
      "File \u001b[1;32mc:\\Users\\Usuario\\OneDrive\\Escritorio\\archivos\\projects\\NLP_Bravi\\.venv\\Lib\\site-packages\\torch\\nn\\modules\\module.py:1931\u001b[0m, in \u001b[0;36mModule.__getattr__\u001b[1;34m(self, name)\u001b[0m\n\u001b[0;32m   1929\u001b[0m     \u001b[38;5;28;01mif\u001b[39;00m name \u001b[38;5;129;01min\u001b[39;00m modules:\n\u001b[0;32m   1930\u001b[0m         \u001b[38;5;28;01mreturn\u001b[39;00m modules[name]\n\u001b[1;32m-> 1931\u001b[0m \u001b[38;5;28;01mraise\u001b[39;00m \u001b[38;5;167;01mAttributeError\u001b[39;00m(\n\u001b[0;32m   1932\u001b[0m     \u001b[38;5;124mf\u001b[39m\u001b[38;5;124m\"\u001b[39m\u001b[38;5;124m'\u001b[39m\u001b[38;5;132;01m{\u001b[39;00m\u001b[38;5;28mtype\u001b[39m(\u001b[38;5;28mself\u001b[39m)\u001b[38;5;241m.\u001b[39m\u001b[38;5;18m__name__\u001b[39m\u001b[38;5;132;01m}\u001b[39;00m\u001b[38;5;124m'\u001b[39m\u001b[38;5;124m object has no attribute \u001b[39m\u001b[38;5;124m'\u001b[39m\u001b[38;5;132;01m{\u001b[39;00mname\u001b[38;5;132;01m}\u001b[39;00m\u001b[38;5;124m'\u001b[39m\u001b[38;5;124m\"\u001b[39m\n\u001b[0;32m   1933\u001b[0m )\n",
      "\u001b[1;31mAttributeError\u001b[0m: 'SentenceTransformer' object has no attribute 'get_feature_names_out'"
     ]
    }
   ],
   "source": [
    "# Obtén los nombres de las características y los coeficientes\n",
    "feature_names = model.get_feature_names_out()\n",
    "coef = modelo_LR.coef_\n",
    "\n",
    "# Visualiza los coeficientes más importantes para cada clase\n",
    "num_top_features = 10\n",
    "for i, label in labels:\n",
    "    top_features_idx = np.argsort(coef[i])[-num_top_features:]\n",
    "    top_features_names = [feature_names[j] for j in top_features_idx]\n",
    "    top_features_coef = coef[i][top_features_idx]\n",
    "    \n",
    "    plt.figure()\n",
    "    plt.barh(top_features_names, top_features_coef)\n",
    "    plt.title(f'Características principales para la clase {label}')\n",
    "    plt.show()"
   ]
  }
 ],
 "metadata": {
  "kernelspec": {
   "display_name": ".venv",
   "language": "python",
   "name": "python3"
  },
  "language_info": {
   "codemirror_mode": {
    "name": "ipython",
    "version": 3
   },
   "file_extension": ".py",
   "mimetype": "text/x-python",
   "name": "python",
   "nbconvert_exporter": "python",
   "pygments_lexer": "ipython3",
   "version": "3.11.2"
  }
 },
 "nbformat": 4,
 "nbformat_minor": 2
}
