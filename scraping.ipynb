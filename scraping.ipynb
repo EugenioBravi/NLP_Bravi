{
 "cells": [
  {
   "cell_type": "code",
   "execution_count": 1,
   "metadata": {},
   "outputs": [],
   "source": [
    "import pandas as pd\n",
    "from bs4 import BeautifulSoup\n",
    "import re\n",
    "import requests"
   ]
  },
  {
   "cell_type": "code",
   "execution_count": 2,
   "metadata": {},
   "outputs": [],
   "source": [
    "#parseamos el html\n",
    "url = \"https://www.gutenberg.org/browse/scores/top1000.php#books-last1\"\n",
    "response = requests.get(url)\n",
    "soup = BeautifulSoup(response.text, 'html.parser')"
   ]
  },
  {
   "cell_type": "code",
   "execution_count": 3,
   "metadata": {},
   "outputs": [
    {
     "data": {
      "text/plain": [
       "1000"
      ]
     },
     "execution_count": 3,
     "metadata": {},
     "output_type": "execute_result"
    }
   ],
   "source": [
    "links = []\n",
    "#Primero buscamos todas las listas ('ol'), luego seleccionamos la lista que tiene los libros mas populares de los ultimos 30 días\n",
    "#Luego bucamos todos los elementos links ('a') de la lista para extraer y almacenar el 'href' de cada elemento.\n",
    "#El href contiene la url de cada libro.\n",
    "ol = soup.find_all('ol')\n",
    "for a in ol[4].find_all('a'):\n",
    "  link = a.get('href')\n",
    "  links.append(link)\n",
    "len(links)"
   ]
  },
  {
   "cell_type": "code",
   "execution_count": 4,
   "metadata": {},
   "outputs": [],
   "source": [
    "titles = []\n",
    "generos = []\n",
    "descripciones = []\n",
    "authors = []\n",
    "\n",
    "for link in links: \n",
    "  url = \"https://www.gutenberg.org\" + link #Visitamos todas las urls\n",
    "  response = requests.get(url)\n",
    "  soup = BeautifulSoup(response.text, 'html.parser')\n",
    "  secciones_tabla = soup.find('table', {'class': 'bibrec'}).find_all('tr') #Buscamos la tabla donde tiene la informacion del libro\n",
    "  title = ''\n",
    "  author = ''\n",
    "  genero = ''\n",
    "  descripcion = ''\n",
    "  for seccion in secciones_tabla:\n",
    "    categoria = seccion.find_all('th') \n",
    "    contenido = seccion.find_all('td')\n",
    "    if len(categoria) > 0:\n",
    "      if categoria[0].get_text() == 'Title':\n",
    "        title = title + contenido[0].get_text()\n",
    "      if categoria[0].get_text() == 'Author':\n",
    "        author = author + contenido[0].get_text()\n",
    "      if categoria[0].get_text() == 'Subject':\n",
    "        genero = genero + contenido[0].get_text()\n",
    "      if categoria[0].get_text() == 'Summary':\n",
    "        descripcion = descripcion + contenido[0].get_text()\n",
    "  titles.append(title)\n",
    "  generos.append(genero)\n",
    "  descripciones.append(descripcion)\n",
    "  authors.append(author)\n"
   ]
  },
  {
   "cell_type": "code",
   "execution_count": 5,
   "metadata": {},
   "outputs": [],
   "source": [
    "#Limpiamos los datos despues del scraping\n",
    "generos_normalizada = []\n",
    "titles_normalizada = []\n",
    "descripciones_normalizada = []\n",
    "authors_normalizada = []\n",
    "for elemento in generos:\n",
    "    elemento = elemento.replace('\\n', ' ').replace('--', '').replace(',', '').replace('.', '').replace('(', '').replace(')', '')\n",
    "    elemento = re.sub(r'\\s{2,}', ' ', elemento)\n",
    "    generos_normalizada.append(elemento)\n",
    "\n",
    "for title in titles:\n",
    "    title = title.replace('\\n', '').replace(',', '').replace(';', '').replace('.', '')\n",
    "    titles_normalizada.append(title)\n",
    "\n",
    "for descripcion in descripciones:\n",
    "    descripcion = descripcion.replace('\\n', '').replace(';', '')\n",
    "    descripciones_normalizada.append(descripcion)\n",
    "\n",
    "for author in authors:\n",
    "    author = author.replace('\\n', '').replace(',', ' ')\n",
    "    authors_normalizada.append(author)"
   ]
  },
  {
   "cell_type": "code",
   "execution_count": 6,
   "metadata": {},
   "outputs": [],
   "source": [
    "df = pd.DataFrame({\n",
    "    'Title': titles_normalizada,\n",
    "    'Genre': generos_normalizada,\n",
    "    'Description': descripciones_normalizada,\n",
    "    'Author': authors_normalizada\n",
    "})\n"
   ]
  },
  {
   "cell_type": "code",
   "execution_count": 7,
   "metadata": {},
   "outputs": [],
   "source": [
    "df.to_csv('./databases/libros_bd.csv', index=False)"
   ]
  }
 ],
 "metadata": {
  "kernelspec": {
   "display_name": ".venv",
   "language": "python",
   "name": "python3"
  },
  "language_info": {
   "codemirror_mode": {
    "name": "ipython",
    "version": 3
   },
   "file_extension": ".py",
   "mimetype": "text/x-python",
   "name": "python",
   "nbconvert_exporter": "python",
   "pygments_lexer": "ipython3",
   "version": "3.11.2"
  }
 },
 "nbformat": 4,
 "nbformat_minor": 2
}
