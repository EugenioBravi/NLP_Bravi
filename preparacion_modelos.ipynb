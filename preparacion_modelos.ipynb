{
 "cells": [
  {
   "cell_type": "code",
   "execution_count": 7,
   "metadata": {},
   "outputs": [],
   "source": [
    "import pandas as pd\n",
    "from sklearn.model_selection import train_test_split\n",
    "from sklearn.metrics import accuracy_score, classification_report\n",
    "from sklearn.linear_model import LogisticRegression\n",
    "from sentence_transformers import SentenceTransformer, util"
   ]
  },
  {
   "cell_type": "markdown",
   "metadata": {},
   "source": [
    "## Modelo Analisis de sentimientos"
   ]
  },
  {
   "cell_type": "code",
   "execution_count": 8,
   "metadata": {},
   "outputs": [],
   "source": [
    "dataset_sentimientos = pd.read_csv('./databases/sentimientos.csv')"
   ]
  },
  {
   "cell_type": "code",
   "execution_count": 9,
   "metadata": {},
   "outputs": [
    {
     "data": {
      "text/html": [
       "<div>\n",
       "<style scoped>\n",
       "    .dataframe tbody tr th:only-of-type {\n",
       "        vertical-align: middle;\n",
       "    }\n",
       "\n",
       "    .dataframe tbody tr th {\n",
       "        vertical-align: top;\n",
       "    }\n",
       "\n",
       "    .dataframe thead th {\n",
       "        text-align: right;\n",
       "    }\n",
       "</style>\n",
       "<table border=\"1\" class=\"dataframe\">\n",
       "  <thead>\n",
       "    <tr style=\"text-align: right;\">\n",
       "      <th></th>\n",
       "      <th>clase</th>\n",
       "      <th>frase</th>\n",
       "    </tr>\n",
       "  </thead>\n",
       "  <tbody>\n",
       "    <tr>\n",
       "      <th>0</th>\n",
       "      <td>0</td>\n",
       "      <td>me siento un poco nostalgico hoy.</td>\n",
       "    </tr>\n",
       "    <tr>\n",
       "      <th>1</th>\n",
       "      <td>0</td>\n",
       "      <td>todo parece tan gris, como si algo faltara.</td>\n",
       "    </tr>\n",
       "    <tr>\n",
       "      <th>2</th>\n",
       "      <td>0</td>\n",
       "      <td>no tengo ganas de hacer nada, estoy algo decaido.</td>\n",
       "    </tr>\n",
       "    <tr>\n",
       "      <th>3</th>\n",
       "      <td>0</td>\n",
       "      <td>echo de menos esos tiempos felices que ya no v...</td>\n",
       "    </tr>\n",
       "    <tr>\n",
       "      <th>4</th>\n",
       "      <td>0</td>\n",
       "      <td>me invade una sensacion de tristeza, sin motiv...</td>\n",
       "    </tr>\n",
       "  </tbody>\n",
       "</table>\n",
       "</div>"
      ],
      "text/plain": [
       "   clase                                              frase\n",
       "0      0                  me siento un poco nostalgico hoy.\n",
       "1      0        todo parece tan gris, como si algo faltara.\n",
       "2      0  no tengo ganas de hacer nada, estoy algo decaido.\n",
       "3      0  echo de menos esos tiempos felices que ya no v...\n",
       "4      0  me invade una sensacion de tristeza, sin motiv..."
      ]
     },
     "execution_count": 9,
     "metadata": {},
     "output_type": "execute_result"
    }
   ],
   "source": [
    "dataset_sentimientos.head()"
   ]
  },
  {
   "cell_type": "code",
   "execution_count": 10,
   "metadata": {},
   "outputs": [
    {
     "name": "stdout",
     "output_type": "stream",
     "text": [
      "Precisión Regresión Logística: 0.9393939393939394\n",
      "Reporte de clasificación Regresión Logística:\n",
      "               precision    recall  f1-score   support\n",
      "\n",
      "           0       0.91      0.91      0.91        11\n",
      "           1       0.91      0.91      0.91        11\n",
      "           2       1.00      1.00      1.00        11\n",
      "\n",
      "    accuracy                           0.94        33\n",
      "   macro avg       0.94      0.94      0.94        33\n",
      "weighted avg       0.94      0.94      0.94        33\n",
      "\n"
     ]
    }
   ],
   "source": [
    "model = SentenceTransformer('sentence-transformers/distiluse-base-multilingual-cased-v1') \n",
    "\n",
    "labels = [(0, \"Melancolico\"), (1, \"Ni fu Ni fa\"), (2, \"Alegre\")]\n",
    "\n",
    "# División del dataset\n",
    "X_train, X_test, y_train, y_test = train_test_split(dataset_sentimientos['frase'].to_list(), dataset_sentimientos['clase'].to_list(), test_size=0.2, shuffle=True,random_state=42)\n",
    "\n",
    "# Obtenemos los embeddings de BERT para los conjuntos de entrenamiento y prueba\n",
    "X_train_vectorized = model.encode(X_train)\n",
    "X_test_vectorized = model.encode(X_test)\n",
    "# Creación y entrenamiento del modelo de Regresión Logística Multinomial\n",
    "modelo_sentimientos = LogisticRegression(max_iter=100, solver='lbfgs')\n",
    "modelo_sentimientos.fit(X_train_vectorized, y_train)\n",
    "\n",
    "# Evaluación del modelo de Regresión Logística\n",
    "y_pred_sentimientos = modelo_sentimientos.predict(X_test_vectorized)\n",
    "acc_sentimientos = accuracy_score(y_test, y_pred_sentimientos)\n",
    "report_sentimientos = classification_report(y_test, y_pred_sentimientos, zero_division=1)\n",
    "\n",
    "print(\"Precisión Regresión Logística:\", acc_sentimientos)\n",
    "print(\"Reporte de clasificación Regresión Logística:\\n\", report_sentimientos)\n"
   ]
  },
  {
   "cell_type": "code",
   "execution_count": 11,
   "metadata": {},
   "outputs": [
    {
     "name": "stdout",
     "output_type": "stream",
     "text": [
      "Diferencia encontrada en el índice 8:\n",
      "X_test: me siento como si el dia hubiera pasado desapercibido, sin nada memorable.\n",
      "y_test: 1\n",
      "y_pred_sentimientos: 0\n",
      "\n",
      "Diferencia encontrada en el índice 12:\n",
      "X_test: no encuentro consuelo en nada, todo parece sombrio.\n",
      "y_test: 0\n",
      "y_pred_sentimientos: 1\n",
      "\n"
     ]
    }
   ],
   "source": [
    "for i in range(len(y_test)):\n",
    "    if y_test[i] != y_pred_sentimientos[i]:\n",
    "        print(f\"Diferencia encontrada en el índice {i}:\")\n",
    "        print(f\"X_test: {X_test[i]}\")\n",
    "        print(f\"y_test: {y_test[i]}\")\n",
    "        print(f\"y_pred_sentimientos: {y_pred_sentimientos[i]}\")\n",
    "        print()  # Línea en blanco para separar las salidas"
   ]
  },
  {
   "cell_type": "code",
   "execution_count": 12,
   "metadata": {},
   "outputs": [
    {
     "name": "stdout",
     "output_type": "stream",
     "text": [
      "Modelo exportado correctamente\n"
     ]
    }
   ],
   "source": [
    "# Make something to export the model to another notebook\n",
    "import joblib\n",
    "\n",
    "joblib.dump(modelo_sentimientos, './models/modelo_sentimientos.pkl')\n",
    "\n",
    "print(\"Modelo exportado correctamente\")"
   ]
  },
  {
   "cell_type": "markdown",
   "metadata": {},
   "source": [
    "## Modelo Recomendaciones"
   ]
  },
  {
   "cell_type": "code",
   "execution_count": 13,
   "metadata": {},
   "outputs": [],
   "source": [
    "juegos_dataset = pd.read_csv('./databases/juegos_procesados.csv')\n",
    "libros_dataset = pd.read_csv('./databases/libros_procesados.csv')\n",
    "peliculas_dataset = pd.read_csv('./databases/peliculas_procesados.csv')"
   ]
  },
  {
   "cell_type": "code",
   "execution_count": 14,
   "metadata": {},
   "outputs": [
    {
     "data": {
      "application/vnd.jupyter.widget-view+json": {
       "model_id": "d2512de0ec694ee2a1e75619738b285a",
       "version_major": 2,
       "version_minor": 0
      },
      "text/plain": [
       "modules.json:   0%|          | 0.00/229 [00:00<?, ?B/s]"
      ]
     },
     "metadata": {},
     "output_type": "display_data"
    },
    {
     "data": {
      "application/vnd.jupyter.widget-view+json": {
       "model_id": "9369b075034b4f02bf3b6f720943d226",
       "version_major": 2,
       "version_minor": 0
      },
      "text/plain": [
       "config_sentence_transformers.json:   0%|          | 0.00/122 [00:00<?, ?B/s]"
      ]
     },
     "metadata": {},
     "output_type": "display_data"
    },
    {
     "data": {
      "application/vnd.jupyter.widget-view+json": {
       "model_id": "9a31d5e3fb364e2f9fc390a862805116",
       "version_major": 2,
       "version_minor": 0
      },
      "text/plain": [
       "README.md:   0%|          | 0.00/4.12k [00:00<?, ?B/s]"
      ]
     },
     "metadata": {},
     "output_type": "display_data"
    },
    {
     "data": {
      "application/vnd.jupyter.widget-view+json": {
       "model_id": "e4d4a5b6079e445abfd59c849e020dda",
       "version_major": 2,
       "version_minor": 0
      },
      "text/plain": [
       "sentence_bert_config.json:   0%|          | 0.00/53.0 [00:00<?, ?B/s]"
      ]
     },
     "metadata": {},
     "output_type": "display_data"
    },
    {
     "data": {
      "application/vnd.jupyter.widget-view+json": {
       "model_id": "595f1d9a0f454f728f9fe589fae2bd55",
       "version_major": 2,
       "version_minor": 0
      },
      "text/plain": [
       "config.json:   0%|          | 0.00/645 [00:00<?, ?B/s]"
      ]
     },
     "metadata": {},
     "output_type": "display_data"
    },
    {
     "data": {
      "application/vnd.jupyter.widget-view+json": {
       "model_id": "8223ba82f67247c78f10d14cba6a152c",
       "version_major": 2,
       "version_minor": 0
      },
      "text/plain": [
       "model.safetensors:   0%|          | 0.00/471M [00:00<?, ?B/s]"
      ]
     },
     "metadata": {},
     "output_type": "display_data"
    },
    {
     "data": {
      "application/vnd.jupyter.widget-view+json": {
       "model_id": "b6e4c5aa073442658d059e00afe7cd47",
       "version_major": 2,
       "version_minor": 0
      },
      "text/plain": [
       "tokenizer_config.json:   0%|          | 0.00/480 [00:00<?, ?B/s]"
      ]
     },
     "metadata": {},
     "output_type": "display_data"
    },
    {
     "data": {
      "application/vnd.jupyter.widget-view+json": {
       "model_id": "23176f8010344146bc152ade777418f4",
       "version_major": 2,
       "version_minor": 0
      },
      "text/plain": [
       "tokenizer.json:   0%|          | 0.00/9.08M [00:00<?, ?B/s]"
      ]
     },
     "metadata": {},
     "output_type": "display_data"
    },
    {
     "data": {
      "application/vnd.jupyter.widget-view+json": {
       "model_id": "a34ce5c841b0491a968b7a1ef13ed707",
       "version_major": 2,
       "version_minor": 0
      },
      "text/plain": [
       "special_tokens_map.json:   0%|          | 0.00/239 [00:00<?, ?B/s]"
      ]
     },
     "metadata": {},
     "output_type": "display_data"
    },
    {
     "data": {
      "application/vnd.jupyter.widget-view+json": {
       "model_id": "ea793e065be349ae98b669fd31616f61",
       "version_major": 2,
       "version_minor": 0
      },
      "text/plain": [
       "1_Pooling/config.json:   0%|          | 0.00/190 [00:00<?, ?B/s]"
      ]
     },
     "metadata": {},
     "output_type": "display_data"
    }
   ],
   "source": [
    "modelo_recomendaciones = SentenceTransformer('sentence-transformers/paraphrase-multilingual-MiniLM-L12-v2')"
   ]
  },
  {
   "cell_type": "code",
   "execution_count": 15,
   "metadata": {},
   "outputs": [],
   "source": [
    "juegos_embeddings = modelo_recomendaciones.encode(juegos_dataset['description'].tolist(),convert_to_tensor=True)\n",
    "libros_embeddings = modelo_recomendaciones.encode(libros_dataset['description'].tolist(),convert_to_tensor=True)\n",
    "peliculas_embeddings = modelo_recomendaciones.encode(peliculas_dataset['description'].tolist(),convert_to_tensor=True)"
   ]
  },
  {
   "cell_type": "code",
   "execution_count": 16,
   "metadata": {},
   "outputs": [
    {
     "data": {
      "text/plain": [
       "[('The Legend of Tarzan', 0.655036449432373),\n",
       " ('The Jungle Book', 0.5683676600456238),\n",
       " ('The Survivalist', 0.562903106212616)]"
      ]
     },
     "execution_count": 16,
     "metadata": {},
     "output_type": "execute_result"
    }
   ],
   "source": [
    "user_embedding = modelo_recomendaciones.encode('Historia de un hombre que vive en la selva',convert_to_tensor=True)\n",
    "\n",
    "coseno = util.cos_sim(user_embedding, peliculas_embeddings)[0]\n",
    "index = coseno.argsort(descending=True)[:3].tolist()\n",
    "# Extraer las recomendaciones\n",
    "recomendaciones = [(peliculas_dataset['title'].iloc[i], coseno[i].item()) for i in index]\n",
    "recomendaciones\n"
   ]
  },
  {
   "cell_type": "code",
   "execution_count": 17,
   "metadata": {},
   "outputs": [
    {
     "name": "stdout",
     "output_type": "stream",
     "text": [
      "Modelo exportado correctamente\n"
     ]
    }
   ],
   "source": [
    "joblib.dump(modelo_recomendaciones, './models/modelo_recomendaciones.pkl')\n",
    "\n",
    "print(\"Modelo exportado correctamente\")"
   ]
  }
 ],
 "metadata": {
  "kernelspec": {
   "display_name": ".venv",
   "language": "python",
   "name": "python3"
  },
  "language_info": {
   "codemirror_mode": {
    "name": "ipython",
    "version": 3
   },
   "file_extension": ".py",
   "mimetype": "text/x-python",
   "name": "python",
   "nbconvert_exporter": "python",
   "pygments_lexer": "ipython3",
   "version": "3.12.6"
  }
 },
 "nbformat": 4,
 "nbformat_minor": 2
}
