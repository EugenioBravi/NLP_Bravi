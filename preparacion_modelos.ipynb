{
 "cells": [
  {
   "cell_type": "code",
   "execution_count": null,
   "metadata": {},
   "outputs": [],
   "source": [
    "import pandas as pd\n",
    "from sklearn.model_selection import train_test_split\n",
    "from sklearn.metrics import accuracy_score, classification_report\n",
    "from sklearn.linear_model import LogisticRegression\n",
    "from sentence_transformers import SentenceTransformer\n",
    "from gliner import GLiNER\n",
    "import joblib"
   ]
  },
  {
   "cell_type": "markdown",
   "metadata": {},
   "source": [
    "## Modelo Analisis de sentimientos"
   ]
  },
  {
   "cell_type": "code",
   "execution_count": null,
   "metadata": {},
   "outputs": [],
   "source": [
    "dataset_sentimientos = pd.read_csv('./databases/sentimientos.csv')"
   ]
  },
  {
   "cell_type": "code",
   "execution_count": null,
   "metadata": {},
   "outputs": [],
   "source": [
    "model = SentenceTransformer('sentence-transformers/distiluse-base-multilingual-cased-v1') \n",
    "\n",
    "labels = [(0, \"Melancolico\"), (1, \"Ni fu Ni fa\"), (2, \"Alegre\")]\n",
    "\n",
    "# División del dataset\n",
    "X_train, X_test, y_train, y_test = train_test_split(dataset_sentimientos['frase'].to_list(), dataset_sentimientos['clase'].to_list(), test_size=0.2, shuffle=True,random_state=42)\n",
    "\n",
    "# Obtenemos los embeddings de BERT para los conjuntos de entrenamiento y prueba\n",
    "X_train_vectorized = model.encode(X_train)\n",
    "X_test_vectorized = model.encode(X_test)\n",
    "# Creación y entrenamiento del modelo de Regresión Logística\n",
    "modelo_sentimientos = LogisticRegression(max_iter=100, solver='lbfgs')\n",
    "modelo_sentimientos.fit(X_train_vectorized, y_train)\n",
    "\n",
    "# Evaluación del modelo de Regresión Logística\n",
    "y_pred_sentimientos = modelo_sentimientos.predict(X_test_vectorized)\n",
    "acc_sentimientos = accuracy_score(y_test, y_pred_sentimientos)\n",
    "report_sentimientos = classification_report(y_test, y_pred_sentimientos, zero_division=1)\n",
    "\n",
    "print(\"Precisión Regresión Logística:\", acc_sentimientos)\n",
    "print(\"Reporte de clasificación Regresión Logística:\\n\", report_sentimientos)\n"
   ]
  },
  {
   "cell_type": "markdown",
   "metadata": {},
   "source": [
    "## Modelo Recomendaciones"
   ]
  },
  {
   "cell_type": "code",
   "execution_count": null,
   "metadata": {},
   "outputs": [],
   "source": [
    "modelo_recomendaciones = SentenceTransformer('sentence-transformers/all-MiniLM-L12-v2')\n",
    "modelo_gliner = GLiNER.from_pretrained(\"urchade/gliner_medium-v2.1\")"
   ]
  },
  {
   "cell_type": "markdown",
   "metadata": {},
   "source": [
    "## Importamos los modelos"
   ]
  },
  {
   "cell_type": "code",
   "execution_count": null,
   "metadata": {},
   "outputs": [],
   "source": [
    "joblib.dump(modelo_sentimientos, './models/modelo_sentimientos.pkl')\n",
    "joblib.dump(model, './models/modelo_embedding.pkl')\n",
    "joblib.dump(modelo_recomendaciones, './models/modelo_recomendaciones.pkl')\n",
    "joblib.dump(modelo_gliner, './models/modelo_gliner.pkl')\n",
    "print(\"Modelos exportados correctamente\")"
   ]
  }
 ],
 "metadata": {
  "kernelspec": {
   "display_name": ".venv",
   "language": "python",
   "name": "python3"
  },
  "language_info": {
   "codemirror_mode": {
    "name": "ipython",
    "version": 3
   },
   "file_extension": ".py",
   "mimetype": "text/x-python",
   "name": "python",
   "nbconvert_exporter": "python",
   "pygments_lexer": "ipython3",
   "version": "3.12.6"
  }
 },
 "nbformat": 4,
 "nbformat_minor": 2
}
