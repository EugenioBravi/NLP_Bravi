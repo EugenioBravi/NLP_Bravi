{
 "cells": [
  {
   "cell_type": "code",
   "execution_count": 1,
   "metadata": {},
   "outputs": [
    {
     "name": "stderr",
     "output_type": "stream",
     "text": [
      "c:\\Users\\intc\\source\\repos\\NLP_Bravi\\.venv\\Lib\\site-packages\\sentence_transformers\\cross_encoder\\CrossEncoder.py:13: TqdmExperimentalWarning: Using `tqdm.autonotebook.tqdm` in notebook mode. Use `tqdm.tqdm` instead to force console mode (e.g. in jupyter console)\n",
      "  from tqdm.autonotebook import tqdm, trange\n"
     ]
    }
   ],
   "source": [
    "import joblib\n",
    "import pandas as pd\n",
    "import ipywidgets as widgets\n",
    "from IPython.display import display\n",
    "from sentence_transformers import util\n",
    "from deep_translator import MyMemoryTranslator\n",
    "import ast"
   ]
  },
  {
   "cell_type": "code",
   "execution_count": 2,
   "metadata": {},
   "outputs": [],
   "source": [
    "\n",
    "modelo_LR = joblib.load('models/modelo_sentimientos.pkl')\n",
    "modelo_embedding = joblib.load('models/modelo_embedding.pkl')\n",
    "modelo_recomendaciones = joblib.load('models/modelo_recomendaciones.pkl')\n",
    "modelo_gliner = joblib.load('models/modelo_gliner.pkl')\n"
   ]
  },
  {
   "cell_type": "code",
   "execution_count": 3,
   "metadata": {},
   "outputs": [],
   "source": [
    "juegos_dataset = pd.read_csv('./databases/juegos_procesados.csv')\n",
    "libros_dataset = pd.read_csv('./databases/libros_procesados.csv')\n",
    "peliculas_dataset = pd.read_csv('./databases/peliculas_procesados.csv')\n",
    "\n",
    "juegos_dataset['embeddings'] = juegos_dataset['description'].apply(lambda x: modelo_recomendaciones.encode(x))\n",
    "libros_dataset['embeddings'] = libros_dataset['description'].apply(lambda x: modelo_recomendaciones.encode(x))\n",
    "peliculas_dataset['embeddings'] = peliculas_dataset['description'].apply(lambda x: modelo_recomendaciones.encode(x))\n"
   ]
  },
  {
   "cell_type": "code",
   "execution_count": 4,
   "metadata": {},
   "outputs": [],
   "source": [
    "def traducir(query):\n",
    "    translated = MyMemoryTranslator(source='spanish', target='english').translate(query)\n",
    "    return translated"
   ]
  },
  {
   "cell_type": "code",
   "execution_count": 5,
   "metadata": {},
   "outputs": [],
   "source": [
    "def busqueda_peliculas(consulta):\n",
    "    #convierto los valores de las columnas en listas\n",
    "    peliculas_dataset['actors'] = peliculas_dataset['actors'].apply(lambda x: ast.literal_eval(x) if isinstance(x, str) else x)\n",
    "    peliculas_dataset['categories'] = peliculas_dataset['categories'].apply(lambda x: ast.literal_eval(x) if isinstance(x, str) else x)\n",
    "\n",
    "    consulta_usuario = consulta\n",
    "    labels = ['Name','Genre','Year']\n",
    "    entidades_consulta = modelo_gliner.predict_entities(traducir(consulta_usuario),labels,threshold=0.6)\n",
    "    names = []\n",
    "    years = []\n",
    "    genres = []\n",
    "    for entidad in entidades_consulta:\n",
    "        if entidad['label'] == 'Name':\n",
    "            if entidad['text'].lower() == 'i':\n",
    "                continue\n",
    "            names.append(entidad['text'].lower())\n",
    "        if entidad['label'] == 'Year':\n",
    "            years.append(entidad['text'].lower())\n",
    "        if entidad['label'] == 'Genre':\n",
    "            genres.append(entidad['text'].lower())\n",
    "\n",
    "    candidates = peliculas_dataset.copy()\n",
    "    # Filtrar por nombres en 'director' o 'actors'\n",
    "    if len(names) > 0:\n",
    "        candidates = candidates = peliculas_dataset[\n",
    "        peliculas_dataset.apply(lambda row: any(name in [actor for actor in row['actors']] or name in [director for director in row['director']] for name in names), axis=1)]\n",
    "     # Filtrar por género en 'categories' \n",
    "    if len(genres) > 0:\n",
    "        candidates = candidates[\n",
    "            candidates.apply(lambda row: any(genre in [category for category in row['categories']] for genre in genres), axis=1)\n",
    "        ]\n",
    "\n",
    "    # Filtrar por años en 'years' \n",
    "    if len(years) > 0:\n",
    "        candidates = candidates[\n",
    "            candidates.apply(lambda row: any(str(year) in str(row['year']) for year in years), axis=1)\n",
    "        ]\n",
    "    \n",
    "    # Si no hay candidates hace busqueda semantica en todo el dataset\n",
    "    if len(candidates) == 0:\n",
    "        candidates = peliculas_dataset.copy()\n",
    "    \n",
    "    user_embedding = modelo_recomendaciones.encode(traducir(consulta_usuario),convert_to_tensor=True)\n",
    "    # Calculamos el coseno para determinar los mejores resultados\n",
    "    coseno = util.cos_sim(user_embedding, candidates['embeddings'].tolist())[0]\n",
    "    index = coseno.argsort(descending=True)[:3].tolist()\n",
    "    recomendaciones = [candidates['title'].iloc[i] for i in index]\n",
    "    return recomendaciones\n"
   ]
  },
  {
   "cell_type": "code",
   "execution_count": 6,
   "metadata": {},
   "outputs": [],
   "source": [
    "def busqueda_libros(consulta):\n",
    "    #convierto los valores de las columnas en listas\n",
    "    libros_dataset['categories'] = libros_dataset['categories'].apply(lambda x: ast.literal_eval(x) if isinstance(x, str) else x)\n",
    "\n",
    "    consulta_usuario = consulta\n",
    "    labels = ['Genre']\n",
    "    entidades_consulta = modelo_gliner.predict_entities(traducir(consulta_usuario),labels,threshold=0.6)\n",
    "    genres = []\n",
    "    for entidad in entidades_consulta:\n",
    "\n",
    "        if entidad['label'] == 'Genre':\n",
    "            genres.append(entidad['text'].lower())\n",
    "\n",
    "    candidates = libros_dataset.copy()\n",
    "\n",
    "     # Filtrar por género en 'categories' \n",
    "    if len(genres) > 0:\n",
    "        candidates = candidates[\n",
    "            candidates.apply(lambda row: any(genre in [category for category in row['categories']] for genre in genres), axis=1)\n",
    "        ]\n",
    "\n",
    "    if len(candidates) == 0:\n",
    "        candidates = libros_dataset.copy()\n",
    "\n",
    "    # Si no hay candidates hace busqueda semantica en todo el dataset\n",
    "    user_embedding = modelo_recomendaciones.encode(traducir(consulta_usuario),convert_to_tensor=True)\n",
    "    # Calculamos el coseno para determinar los mejores resultados\n",
    "    coseno = util.cos_sim(user_embedding, candidates['embeddings'].tolist())[0]\n",
    "    index = coseno.argsort(descending=True)[:3].tolist()\n",
    "    recomendaciones = [candidates['title'].iloc[i] for i in index]\n",
    "    return recomendaciones"
   ]
  },
  {
   "cell_type": "code",
   "execution_count": 7,
   "metadata": {},
   "outputs": [],
   "source": [
    "def busqueda_juegos(consulta):\n",
    "    #convierto los valores de las columnas en listas\n",
    "    juegos_dataset['directors'] = juegos_dataset['directors'].apply(lambda x: ast.literal_eval(x) if isinstance(x, str) else x)\n",
    "    juegos_dataset['categories'] = juegos_dataset['categories'].apply(lambda x: ast.literal_eval(x) if isinstance(x, str) else x)\n",
    "\n",
    "    consulta_usuario = consulta\n",
    "    labels = ['Name','Genre','Year','Numplayers']\n",
    "    entidades_consulta = modelo_gliner.predict_entities(traducir(consulta_usuario),labels,threshold=0.6)\n",
    "    names = []\n",
    "    years = []\n",
    "    genres = []\n",
    "    numplayers = 1\n",
    "    for entidad in entidades_consulta:\n",
    "        if entidad['label'] == 'Name':\n",
    "            if entidad['text'].lower() == 'i':\n",
    "                continue\n",
    "            names.append(entidad['text'].lower())\n",
    "        if entidad['label'] == 'Year':\n",
    "            years.append(entidad['text'].lower())\n",
    "        if entidad['label'] == 'Genre':\n",
    "            genres.append(entidad['text'].lower())\n",
    "        if entidad['label'] == 'Numplayers':\n",
    "            numplayers = int(entidad['text'][0])\n",
    "\n",
    "    candidates = juegos_dataset.copy()\n",
    "    # Filtrar por nombres en 'director' o 'actors'\n",
    "    if len(names) > 0:\n",
    "        candidates = candidates = juegos_dataset[\n",
    "        juegos_dataset.apply(lambda row: any(name in [director for director in row['directors']] for name in names), axis=1)]\n",
    "     # Filtrar por género en 'categories' (solo si hay géneros extraídos)\n",
    "    if len(genres) > 0:\n",
    "        candidates = candidates[\n",
    "            candidates.apply(lambda row: any(genre in [category for category in row['categories']] for genre in genres), axis=1)\n",
    "        ]\n",
    "\n",
    "    # Filtrar por años en 'years' (solo si hay años extraídos)\n",
    "    if len(years) > 0:\n",
    "        candidates = candidates[\n",
    "            candidates.apply(lambda row: any(str(year) in str(row['year']) for year in years), axis=1)\n",
    "        ]\n",
    "    #Filtrar por la cantidad de jugadores\n",
    "    candidates.apply(lambda row: row['minplayers'] <= numplayers <= row['maxplayers'], axis=1)\n",
    "    \n",
    "    # Si no hay candidates hace busqueda semantica en todo el dataset\n",
    "    if len(candidates) == 0:\n",
    "        candidates = juegos_dataset.copy()\n",
    "\n",
    "    user_embedding = modelo_recomendaciones.encode(traducir(consulta_usuario),convert_to_tensor=True)\n",
    "    # Calculamos el coseno para determinar los mejores resultados\n",
    "    coseno = util.cos_sim(user_embedding, candidates['embeddings'].tolist())[0]\n",
    "    index = coseno.argsort(descending=True)[:3].tolist()\n",
    "    recomendaciones = [candidates['title'].iloc[i] for i in index]\n",
    "    return recomendaciones\n",
    "  "
   ]
  },
  {
   "cell_type": "code",
   "execution_count": 8,
   "metadata": {},
   "outputs": [
    {
     "name": "stderr",
     "output_type": "stream",
     "text": [
      "Asking to truncate to max_length but no maximum length is provided and the model has no predefined maximum length. Default to no truncation.\n",
      "c:\\Users\\intc\\source\\repos\\NLP_Bravi\\.venv\\Lib\\site-packages\\sentence_transformers\\util.py:44: UserWarning: Creating a tensor from a list of numpy.ndarrays is extremely slow. Please consider converting the list to a single numpy.ndarray with numpy.array() before converting to a tensor. (Triggered internally at C:\\actions-runner\\_work\\pytorch\\pytorch\\builder\\windows\\pytorch\\torch\\csrc\\utils\\tensor_new.cpp:281.)\n",
      "  a = torch.tensor(a)\n"
     ]
    },
    {
     "name": "stdout",
     "output_type": "stream",
     "text": [
      "['Santorini', 'Nexus Ops', 'Bora Bora']\n",
      "['Furious Seven', 'The Last Witch Hunter']\n"
     ]
    }
   ],
   "source": [
    "print(busqueda_juegos('quiero que sea un juego de accion'))\n",
    "#print(busqueda_libros('Quiero leer un libro de misterio y fantasia'))\n",
    "print(busqueda_peliculas('Quiero que la historia sea de accion y que actue Vin Diesel y sea del 2015'))"
   ]
  },
  {
   "cell_type": "code",
   "execution_count": 9,
   "metadata": {},
   "outputs": [],
   "source": [
    "def predict_sentiment(text):\n",
    "    text_vectorized = modelo_embedding.encode([text])\n",
    "\n",
    "    sentiment_class = modelo_LR.predict(text_vectorized)[0]\n",
    "    \n",
    "    labels = {0: \"Melancolico\", 1: \"Ni fu Ni fa\", 2: \"Alegre\"}\n",
    "    \n",
    "    sentiment_label = labels[sentiment_class]\n",
    "    \n",
    "    return sentiment_label"
   ]
  },
  {
   "cell_type": "code",
   "execution_count": null,
   "metadata": {},
   "outputs": [
    {
     "data": {
      "application/vnd.jupyter.widget-view+json": {
       "model_id": "6eed1626f34e45ef9a955fe51e79872f",
       "version_major": 2,
       "version_minor": 0
      },
      "text/plain": [
       "HTML(value='Hola, ¿Cómo estás?', description='Asistente:', layout=Layout(width='100%'))"
      ]
     },
     "metadata": {},
     "output_type": "display_data"
    },
    {
     "data": {
      "application/vnd.jupyter.widget-view+json": {
       "model_id": "430226c6cada48829d6a136f71bdba51",
       "version_major": 2,
       "version_minor": 0
      },
      "text/plain": [
       "Text(value='', layout=Layout(width='100%'), placeholder='Escriba una respuesta')"
      ]
     },
     "metadata": {},
     "output_type": "display_data"
    },
    {
     "data": {
      "application/vnd.jupyter.widget-view+json": {
       "model_id": "c19162069c2e4a63a6cbd7bd6e5e9974",
       "version_major": 2,
       "version_minor": 0
      },
      "text/plain": [
       "Button(description='Responder', style=ButtonStyle())"
      ]
     },
     "metadata": {},
     "output_type": "display_data"
    },
    {
     "data": {
      "application/vnd.jupyter.widget-view+json": {
       "model_id": "6322cdea5ee846eba957cc8c7f3fe1e0",
       "version_major": 2,
       "version_minor": 0
      },
      "text/plain": [
       "Output()"
      ]
     },
     "metadata": {},
     "output_type": "display_data"
    }
   ],
   "source": [
    "initial_prompt = widgets.HTML(\n",
    "    description='Asistente:',\n",
    "    value='Hola, ¿Cómo estás?',\n",
    "    layout=widgets.Layout(width='100%'),\n",
    ")\n",
    "\n",
    "followup_prompt = widgets.HTML(\n",
    "    description='Asistente:',\n",
    "    value='Veo que te estas sintiendo reemplazarPorSentimiento. ¿Quieres leer un libro(1), ver una pelicula(2) o jugar un juego(3)?',\n",
    "    layout=widgets.Layout(width='100%')\n",
    ")\n",
    "\n",
    "user_initial_input = widgets.Text(\n",
    "    placeholder='Escriba una respuesta',\n",
    "    layout=widgets.Layout(width='100%'),\n",
    "    disabled=False\n",
    ")\n",
    "\n",
    "user_followup_input = widgets.Text(\n",
    "    placeholder='Escribe 1 para libro, 2 para pelicula o 3 para juego',\n",
    "    layout=widgets.Layout(width='100%'),\n",
    "    disabled=False\n",
    ")\n",
    "user_secondfollowup_input = widgets.Text(\n",
    "    placeholder='Escribe el tema que te interesa',\n",
    "    layout=widgets.Layout(width='100%'),\n",
    "    disabled=False\n",
    ")\n",
    "\n",
    "second_followup_prompt = widgets.HTML(\n",
    "    description='Asistente:',\n",
    "    layout=widgets.Layout(width='100%')\n",
    ")\n",
    "\n",
    "button_initial = widgets.Button(description='Responder')\n",
    "button_followup = widgets.Button(description='Responder')\n",
    "button_secondfollowup = widgets.Button(description='Responder')\n",
    "output = widgets.Output()\n",
    "\n",
    "recommendation_display = widgets.Textarea(\n",
    "    description='Asistente:',\n",
    "    layout=widgets.Layout(width='100%'),\n",
    "    disabled=True\n",
    ")\n",
    "\n",
    "\n",
    "\n",
    "# Callback for initial response\n",
    "def on_initial_button_clicked(b):\n",
    "    if(user_initial_input.value == ''):\n",
    "        return\n",
    "    with output:\n",
    "        button_initial.layout.display = 'none'\n",
    "        output.clear_output()\n",
    "        sentiment = predict_sentiment(user_initial_input.value)\n",
    "        followup_prompt.value = followup_prompt.value.replace('reemplazarPorSentimiento', sentiment.lower())\n",
    "        display(followup_prompt)\n",
    "        display(user_followup_input)\n",
    "        display(button_followup)\n",
    "\n",
    "# Callback for follow-up response\n",
    "def on_followup_button_clicked(b):\n",
    "    with output:\n",
    "        prompt = user_followup_input.value\n",
    "        if(prompt == '1'):\n",
    "            second_followup_prompt.value = f\"Genial! vamos a buscar libro, sobre que quieres leer?\"\n",
    "        elif(prompt == '2'):\n",
    "            second_followup_prompt.value = f\"Genial! vamos a buscar una película que te guste, sobre que quieres ver?\"\n",
    "        elif(prompt == '3'):\n",
    "            second_followup_prompt.value = f\"Genial! vamos a buscar un juego que te guste, que tema quieres abordar?\"\n",
    "        else:\n",
    "            user_followup_input.placeholder = 'Por favor ingrese 1, 2 o 3'\n",
    "            user_followup_input.value = ''\n",
    "            return\n",
    "        button_followup.layout.display = 'none'\n",
    "\n",
    "        display(second_followup_prompt)\n",
    "        display(user_secondfollowup_input)\n",
    "        display(button_secondfollowup)\n",
    "\n",
    "# Callback for follow-up response\n",
    "def on_secondfollowup_button_clicked(b):\n",
    "    if(user_secondfollowup_input.value == ''):\n",
    "        return\n",
    "    with output:\n",
    "        button_followup.layout.display = 'none'\n",
    "        prompt = user_secondfollowup_input.value\n",
    "        tipo = user_followup_input.value\n",
    "        if(tipo == '1'):\n",
    "            recomendaciones = busqueda_libros(prompt)\n",
    "        elif(tipo == '2'):\n",
    "            recomendaciones = busqueda_peliculas(prompt)\n",
    "        elif(tipo == '3'):\n",
    "            recomendaciones = busqueda_juegos(prompt)\n",
    "\n",
    "        recommendation_display.value = f\"Encontre estas recomendaciones para ti:\\n\"\n",
    "        for i, recomendacion in enumerate(recomendaciones):\n",
    "            recommendation_display.value += f\"{i+1}. {recomendacion},\\n\"\n",
    "\n",
    "        if len(recomendaciones) == 0:\n",
    "            recommendation_display.value = \"No encontré recomendaciones para esa descripción\"\n",
    "        \n",
    "        display(recommendation_display)\n",
    "\n",
    "# Bind buttons to callbacks\n",
    "button_initial.on_click(on_initial_button_clicked)\n",
    "button_followup.on_click(on_followup_button_clicked)\n",
    "button_secondfollowup.on_click(on_secondfollowup_button_clicked)\n",
    "\n",
    "# Display initial prompt and input\n",
    "display(initial_prompt)\n",
    "display(user_initial_input)\n",
    "display(button_initial)\n",
    "display(output)\n"
   ]
  }
 ],
 "metadata": {
  "kernelspec": {
   "display_name": ".venv",
   "language": "python",
   "name": "python3"
  },
  "language_info": {
   "codemirror_mode": {
    "name": "ipython",
    "version": 3
   },
   "file_extension": ".py",
   "mimetype": "text/x-python",
   "name": "python",
   "nbconvert_exporter": "python",
   "pygments_lexer": "ipython3",
   "version": "3.12.6"
  }
 },
 "nbformat": 4,
 "nbformat_minor": 2
}
