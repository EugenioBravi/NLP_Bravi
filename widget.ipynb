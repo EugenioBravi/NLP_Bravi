{
 "cells": [
  {
   "cell_type": "code",
   "execution_count": 1,
   "metadata": {},
   "outputs": [
    {
     "name": "stderr",
     "output_type": "stream",
     "text": [
      "c:\\Users\\Usuario\\OneDrive\\Escritorio\\archivos\\projects\\NLP_Bravi\\.venv\\Lib\\site-packages\\sentence_transformers\\cross_encoder\\CrossEncoder.py:13: TqdmExperimentalWarning: Using `tqdm.autonotebook.tqdm` in notebook mode. Use `tqdm.tqdm` instead to force console mode (e.g. in jupyter console)\n",
      "  from tqdm.autonotebook import tqdm, trange\n"
     ]
    }
   ],
   "source": [
    "import joblib\n",
    "import pandas as pd\n",
    "import ipywidgets as widgets\n",
    "from IPython.display import display\n",
    "from sentence_transformers import SentenceTransformer, util\n",
    "\n",
    "\n",
    "juegos = pd.read_csv('databases/juegos_procesados.csv')\n",
    "libros = pd.read_csv('databases/libros_procesados.csv')\n",
    "peliculas = pd.read_csv('databases/peliculas_procesados.csv')\n",
    "sentimientos = pd.read_csv('databases/sentimientos.csv')\n"
   ]
  },
  {
   "cell_type": "code",
   "execution_count": 2,
   "metadata": {},
   "outputs": [],
   "source": [
    "\n",
    "embedding_model = SentenceTransformer('sentence-transformers/distiluse-base-multilingual-cased-v1')\n"
   ]
  },
  {
   "cell_type": "code",
   "execution_count": 3,
   "metadata": {},
   "outputs": [],
   "source": [
    "def predict_sentiment(text):\n",
    "    # Step 1: Encode the input text to get embeddings\n",
    "    text_vectorized = embedding_model.encode([text])\n",
    "    \n",
    "    # Step 2: Load the logistic regression model\n",
    "    try:\n",
    "        modelo_LR = joblib.load('models/modelo_sentimientos.pkl')\n",
    "    except:\n",
    "        print(\"No se ha encontrado el modelo, correr el notebook de clasificacion\")\n",
    "    \n",
    "    # Step 3: Predict the sentiment\n",
    "    sentiment_class = modelo_LR.predict(text_vectorized)[0]\n",
    "    \n",
    "    # Step 4: Map the sentiment class to a label\n",
    "    labels = {0: \"Melancolico\", 1: \"Ni fu Ni fa\", 2: \"Alegre\"}\n",
    "    sentiment_label = labels[sentiment_class]\n",
    "    \n",
    "    return sentiment_label"
   ]
  },
  {
   "cell_type": "code",
   "execution_count": 4,
   "metadata": {},
   "outputs": [],
   "source": [
    "def get_recommendation(prompt):\n",
    "    # Step 1: Load the recommendation model\n",
    "    try:\n",
    "        modelo_recomendacion = joblib.load('models/modelo_recomendaciones.pkl')\n",
    "    except:\n",
    "        print(\"No se ha encontrado el modelo, correr el notebook de recomendacion\")\n",
    "    \n",
    "    juegos_embeddings = modelo_recomendacion.encode(juegos['description'].tolist(),convert_to_tensor=True)\n",
    "    libros_embeddings = modelo_recomendacion.encode(libros['description'].tolist(),convert_to_tensor=True)\n",
    "    peliculas_embeddings = modelo_recomendacion.encode(peliculas['description'].tolist(),convert_to_tensor=True)\n",
    "    # Step 2: Predict a recommendation\n",
    "    user_embedding = modelo_recomendacion.encode(prompt,convert_to_tensor=True)\n",
    "    coseno = util.cos_sim(user_embedding, peliculas_embeddings)[0]\n",
    "    index = coseno.argsort(descending=True)[:3].tolist()\n",
    "    # Extraer las recomendaciones\n",
    "    recomendaciones = [(peliculas['title'].iloc[i], coseno[i].item()) for i in index]\n",
    "    recomendaciones\n",
    "        \n",
    "    return recomendaciones\n"
   ]
  },
  {
   "cell_type": "code",
   "execution_count": null,
   "metadata": {},
   "outputs": [
    {
     "data": {
      "application/vnd.jupyter.widget-view+json": {
       "model_id": "0560476c30e0434c83887142eb846d39",
       "version_major": 2,
       "version_minor": 0
      },
      "text/plain": [
       "Textarea(value='Hola, ¿Cómo estás?', description='Predictor:', disabled=True, layout=Layout(width='100%'))"
      ]
     },
     "metadata": {},
     "output_type": "display_data"
    },
    {
     "data": {
      "application/vnd.jupyter.widget-view+json": {
       "model_id": "1a8ae527786c440fa272073201336e74",
       "version_major": 2,
       "version_minor": 0
      },
      "text/plain": [
       "Text(value='', layout=Layout(width='100%'), placeholder='Escriba una respuesta')"
      ]
     },
     "metadata": {},
     "output_type": "display_data"
    },
    {
     "data": {
      "application/vnd.jupyter.widget-view+json": {
       "model_id": "8c6bd181987d47ab919d41760b3afffc",
       "version_major": 2,
       "version_minor": 0
      },
      "text/plain": [
       "Button(description='Responder', style=ButtonStyle())"
      ]
     },
     "metadata": {},
     "output_type": "display_data"
    },
    {
     "data": {
      "application/vnd.jupyter.widget-view+json": {
       "model_id": "8f2cdf52136e4374b21fdf4e94a82444",
       "version_major": 2,
       "version_minor": 0
      },
      "text/plain": [
       "Output()"
      ]
     },
     "metadata": {},
     "output_type": "display_data"
    }
   ],
   "source": [
    "\n",
    "# Define text areas and buttons\n",
    "initial_prompt = widgets.Textarea(\n",
    "    description='Predictor:',\n",
    "    value='Hola, ¿Cómo estás?',\n",
    "    layout=widgets.Layout(width='100%'),\n",
    "    disabled=True\n",
    ")\n",
    "\n",
    "followup_prompt = widgets.Textarea(\n",
    "    description='Predictor:',\n",
    "    value='Parece que te estás sintiendo reemplazarPorSentimiento. ¿Qué temas te gustaría explorar?',\n",
    "    disabled=True,\n",
    "    layout=widgets.Layout(width='100%')\n",
    ")\n",
    "\n",
    "user_initial_input = widgets.Text(\n",
    "    placeholder='Escriba una respuesta',\n",
    "    layout=widgets.Layout(width='100%'),\n",
    "    disabled=False\n",
    ")\n",
    "\n",
    "user_followup_input = widgets.Text(\n",
    "    placeholder='Escriba una respuesta',\n",
    "    layout=widgets.Layout(width='100%'),\n",
    "    disabled=False\n",
    ")\n",
    "\n",
    "button_initial = widgets.Button(description='Responder')\n",
    "button_followup = widgets.Button(description='Responder')\n",
    "output = widgets.Output()\n",
    "\n",
    "recommendation_display = widgets.Textarea(\n",
    "    description='Predictor:',\n",
    "    layout=widgets.Layout(width='100%'),\n",
    "    disabled=True\n",
    ")\n",
    "\n",
    "\n",
    "\n",
    "# Callback for initial response\n",
    "def on_initial_button_clicked(b):\n",
    "    with output:\n",
    "        button_initial.layout.display = 'none'\n",
    "        output.clear_output()\n",
    "        sentiment = predict_sentiment(user_initial_input.value)\n",
    "        print(f\"Tu estado de ánimo es: {sentiment}\")\n",
    "        followup_prompt.value = followup_prompt.value.replace('reemplazarPorSentimiento', sentiment.lower())\n",
    "        display(followup_prompt)\n",
    "        display(user_followup_input)\n",
    "        display(button_followup)\n",
    "\n",
    "# Callback for follow-up response\n",
    "def on_followup_button_clicked(b):\n",
    "    with output:\n",
    "        button_followup.layout.display = 'none'\n",
    "        prompt = user_followup_input.value\n",
    "        recommendation = get_recommendation(prompt)[0][0]\n",
    "        recommendation_display.value = f\"Genial! te recomendamos: {recommendation}\"\n",
    "        display(recommendation_display)\n",
    "\n",
    "# Bind buttons to callbacks\n",
    "button_initial.on_click(on_initial_button_clicked)\n",
    "button_followup.on_click(on_followup_button_clicked)\n",
    "\n",
    "# Display initial prompt and input\n",
    "display(initial_prompt)\n",
    "display(user_initial_input)\n",
    "display(button_initial)\n",
    "display(output)\n"
   ]
  }
 ],
 "metadata": {
  "kernelspec": {
   "display_name": ".venv",
   "language": "python",
   "name": "python3"
  },
  "language_info": {
   "codemirror_mode": {
    "name": "ipython",
    "version": 3
   },
   "file_extension": ".py",
   "mimetype": "text/x-python",
   "name": "python",
   "nbconvert_exporter": "python",
   "pygments_lexer": "ipython3",
   "version": "3.11.2"
  }
 },
 "nbformat": 4,
 "nbformat_minor": 2
}
