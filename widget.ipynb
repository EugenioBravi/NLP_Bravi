{
 "cells": [
  {
   "cell_type": "code",
   "execution_count": 15,
   "metadata": {},
   "outputs": [],
   "source": [
    "import joblib\n",
    "import pandas as pd\n",
    "import ipywidgets as widgets\n",
    "from IPython.display import display\n",
    "from sentence_transformers import SentenceTransformer, util\n",
    "\n",
    "\n",
    "juegos = pd.read_csv('databases/juegos_procesados.csv')\n",
    "libros = pd.read_csv('databases/libros_procesados.csv')\n",
    "peliculas = pd.read_csv('databases/peliculas_procesados.csv')\n",
    "sentimientos = pd.read_csv('databases/sentimientos.csv')\n"
   ]
  },
  {
   "cell_type": "code",
   "execution_count": 16,
   "metadata": {},
   "outputs": [],
   "source": [
    "\n",
    "embedding_model = SentenceTransformer('sentence-transformers/distiluse-base-multilingual-cased-v1')\n"
   ]
  },
  {
   "cell_type": "code",
   "execution_count": 17,
   "metadata": {},
   "outputs": [],
   "source": [
    "def predict_sentiment(text):\n",
    "    # Step 1: Encode the input text to get embeddings\n",
    "    text_vectorized = embedding_model.encode([text])\n",
    "    \n",
    "    # Step 2: Load the logistic regression model\n",
    "    try:\n",
    "        modelo_LR = joblib.load('models/modelo_sentimientos.pkl')\n",
    "    except:\n",
    "        print(\"No se ha encontrado el modelo, correr el notebook de clasificacion\")\n",
    "    \n",
    "    # Step 3: Predict the sentiment\n",
    "    sentiment_class = modelo_LR.predict(text_vectorized)[0]\n",
    "    \n",
    "    # Step 4: Map the sentiment class to a label\n",
    "    labels = {0: \"Melancolico\", 1: \"Ni fu Ni fa\", 2: \"Alegre\"}\n",
    "    sentiment_label = labels[sentiment_class]\n",
    "    \n",
    "    return sentiment_label"
   ]
  },
  {
   "cell_type": "code",
   "execution_count": 18,
   "metadata": {},
   "outputs": [],
   "source": [
    "def get_recommendation(prompt):\n",
    "    # Step 1: Load the recommendation model\n",
    "    try:\n",
    "        modelo_recomendacion = joblib.load('models/modelo_recomendaciones.pkl')\n",
    "    except:\n",
    "        print(\"No se ha encontrado el modelo, correr el notebook de recomendacion\")\n",
    "    \n",
    "    # Encode descriptions\n",
    "    juegos_embeddings = modelo_recomendacion.encode(juegos['description'].tolist(), convert_to_tensor=True)\n",
    "    libros_embeddings = modelo_recomendacion.encode(libros['description'].tolist(), convert_to_tensor=True)\n",
    "    peliculas_embeddings = modelo_recomendacion.encode(peliculas['description'].tolist(), convert_to_tensor=True)\n",
    "    \n",
    "    # Encode user prompt\n",
    "    user_embedding = modelo_recomendacion.encode(prompt, convert_to_tensor=True)\n",
    "    \n",
    "    # Calculate cosine similarities\n",
    "    coseno_juegos = util.cos_sim(user_embedding, juegos_embeddings)[0]\n",
    "    coseno_libros = util.cos_sim(user_embedding, libros_embeddings)[0]\n",
    "    coseno_peliculas = util.cos_sim(user_embedding, peliculas_embeddings)[0]\n",
    "    \n",
    "    # Get top recommendations\n",
    "    index_juego = coseno_juegos.argsort(descending=True)[0].item()\n",
    "    index_libro = coseno_libros.argsort(descending=True)[0].item()\n",
    "    index_pelicula = coseno_peliculas.argsort(descending=True)[0].item()\n",
    "    \n",
    "    # Extract recommendations\n",
    "    recomendacion_juego = (juegos['title'].iloc[index_juego], coseno_juegos[index_juego].item())\n",
    "    recomendacion_libro = (libros['title'].iloc[index_libro], coseno_libros[index_libro].item())\n",
    "    recomendacion_pelicula = (peliculas['title'].iloc[index_pelicula], coseno_peliculas[index_pelicula].item())\n",
    "    return recomendacion_juego, recomendacion_libro, recomendacion_pelicula\n"
   ]
  },
  {
   "cell_type": "code",
   "execution_count": 19,
   "metadata": {},
   "outputs": [
    {
     "data": {
      "application/vnd.jupyter.widget-view+json": {
       "model_id": "8225802a60874f0a86d085fda7d65254",
       "version_major": 2,
       "version_minor": 0
      },
      "text/plain": [
       "Textarea(value='Hola, ¿Cómo estás?', description='Asistente:', disabled=True, layout=Layout(width='100%'))"
      ]
     },
     "metadata": {},
     "output_type": "display_data"
    },
    {
     "data": {
      "application/vnd.jupyter.widget-view+json": {
       "model_id": "fa2a79016f2d481abad6da5f1d5fd8fc",
       "version_major": 2,
       "version_minor": 0
      },
      "text/plain": [
       "Text(value='', layout=Layout(width='100%'), placeholder='Escriba una respuesta')"
      ]
     },
     "metadata": {},
     "output_type": "display_data"
    },
    {
     "data": {
      "application/vnd.jupyter.widget-view+json": {
       "model_id": "0672167d3aac4a239167ff1514667714",
       "version_major": 2,
       "version_minor": 0
      },
      "text/plain": [
       "Button(description='Responder', style=ButtonStyle())"
      ]
     },
     "metadata": {},
     "output_type": "display_data"
    },
    {
     "data": {
      "application/vnd.jupyter.widget-view+json": {
       "model_id": "2bbeaca274ee41d8b45ed7d1cf075128",
       "version_major": 2,
       "version_minor": 0
      },
      "text/plain": [
       "Output()"
      ]
     },
     "metadata": {},
     "output_type": "display_data"
    }
   ],
   "source": [
    "\n",
    "# Define text areas and buttons\n",
    "initial_prompt = widgets.Textarea(\n",
    "    description='Asistente:',\n",
    "    value='Hola, ¿Cómo estás?',\n",
    "    layout=widgets.Layout(width='100%'),\n",
    "    disabled=True\n",
    ")\n",
    "\n",
    "followup_prompt = widgets.Textarea(\n",
    "    description='Asistente:',\n",
    "    value='Entiendo que estas encerrado y te estas sintiendo reemplazarPorSentimiento. ¿Quieres leer un libro(1), ver una pelicula(2) o jugar un juego(3)?',\n",
    "    disabled=True,\n",
    "    layout=widgets.Layout(width='100%')\n",
    ")\n",
    "\n",
    "user_initial_input = widgets.Text(\n",
    "    placeholder='Escriba una respuesta',\n",
    "    layout=widgets.Layout(width='100%'),\n",
    "    disabled=False\n",
    ")\n",
    "\n",
    "user_followup_input = widgets.Text(\n",
    "    placeholder='Escribe 1 para libro, 2 para pelicula o 3 para juego',\n",
    "    layout=widgets.Layout(width='100%'),\n",
    "    disabled=False\n",
    ")\n",
    "user_secondfollowup_input = widgets.Text(\n",
    "    placeholder='Escribe el tema que te interesa',\n",
    "    layout=widgets.Layout(width='100%'),\n",
    "    disabled=False\n",
    ")\n",
    "\n",
    "second_followup_prompt = widgets.Textarea(\n",
    "    description='Asistente:',\n",
    "    disabled=True,\n",
    "    layout=widgets.Layout(width='100%')\n",
    ")\n",
    "\n",
    "button_initial = widgets.Button(description='Responder')\n",
    "button_followup = widgets.Button(description='Responder')\n",
    "button_secondfollowup = widgets.Button(description='Responder')\n",
    "output = widgets.Output()\n",
    "\n",
    "recommendation_display = widgets.Textarea(\n",
    "    description='Asistente:',\n",
    "    layout=widgets.Layout(width='100%'),\n",
    "    disabled=True\n",
    ")\n",
    "\n",
    "\n",
    "\n",
    "# Callback for initial response\n",
    "def on_initial_button_clicked(b):\n",
    "    if(user_initial_input.value == ''):\n",
    "        return\n",
    "    with output:\n",
    "        button_initial.layout.display = 'none'\n",
    "        output.clear_output()\n",
    "        sentiment = predict_sentiment(user_initial_input.value)\n",
    "        followup_prompt.value = followup_prompt.value.replace('reemplazarPorSentimiento', sentiment.lower())\n",
    "        display(followup_prompt)\n",
    "        display(user_followup_input)\n",
    "        display(button_followup)\n",
    "\n",
    "# Callback for follow-up response\n",
    "def on_followup_button_clicked(b):\n",
    "    with output:\n",
    "        prompt = user_followup_input.value\n",
    "        if(prompt == '1'):\n",
    "            second_followup_prompt.value = f\"Genial! vamos a buscar libro, sobre que quieres leer?\"\n",
    "        elif(prompt == '2'):\n",
    "            second_followup_prompt.value = f\"Genial! vamos a buscar una película que te guste, sobre que quieres ver?\"\n",
    "        elif(prompt == '3'):\n",
    "            second_followup_prompt.value = f\"Genial! vamos a buscar un juego que te guste, que tema quieres abordar?\"\n",
    "        else:\n",
    "            user_followup_input.placeholder = 'Por favor ingrese 1, 2 o 3'\n",
    "            user_followup_input.value = ''\n",
    "            return\n",
    "        button_followup.layout.display = 'none'\n",
    "\n",
    "        display(second_followup_prompt)\n",
    "        display(user_secondfollowup_input)\n",
    "        display(button_secondfollowup)\n",
    "\n",
    "# Callback for follow-up response\n",
    "def on_secondfollowup_button_clicked(b):\n",
    "    if(user_secondfollowup_input.value == ''):\n",
    "        return\n",
    "    with output:\n",
    "        button_followup.layout.display = 'none'\n",
    "        prompt = user_secondfollowup_input.value\n",
    "        recommendation_display.value = f\"Encontre estos resultados para ti: \\n\"\n",
    "        display(recommendation_display)\n",
    "\n",
    "# Bind buttons to callbacks\n",
    "button_initial.on_click(on_initial_button_clicked)\n",
    "button_followup.on_click(on_followup_button_clicked)\n",
    "button_secondfollowup.on_click(on_secondfollowup_button_clicked)\n",
    "\n",
    "# Display initial prompt and input\n",
    "display(initial_prompt)\n",
    "display(user_initial_input)\n",
    "display(button_initial)\n",
    "display(output)\n"
   ]
  }
 ],
 "metadata": {
  "kernelspec": {
   "display_name": ".venv",
   "language": "python",
   "name": "python3"
  },
  "language_info": {
   "codemirror_mode": {
    "name": "ipython",
    "version": 3
   },
   "file_extension": ".py",
   "mimetype": "text/x-python",
   "name": "python",
   "nbconvert_exporter": "python",
   "pygments_lexer": "ipython3",
   "version": "3.12.6"
  }
 },
 "nbformat": 4,
 "nbformat_minor": 2
}
