{
 "cells": [
  {
   "cell_type": "code",
   "execution_count": 25,
   "metadata": {},
   "outputs": [],
   "source": [
    "import joblib\n",
    "import pandas as pd\n",
    "import ipywidgets as widgets\n",
    "from IPython.display import display\n",
    "from sentence_transformers import SentenceTransformer, util\n",
    "\n",
    "\n",
    "juegos = pd.read_csv('databases/juegos_procesados.csv')\n",
    "libros = pd.read_csv('databases/libros_procesados.csv')\n",
    "peliculas = pd.read_csv('databases/peliculas_procesados.csv')\n",
    "sentimientos = pd.read_csv('databases/sentimientos.csv')\n"
   ]
  },
  {
   "cell_type": "code",
   "execution_count": 26,
   "metadata": {},
   "outputs": [],
   "source": [
    "\n",
    "embedding_model = SentenceTransformer('sentence-transformers/distiluse-base-multilingual-cased-v1')\n"
   ]
  },
  {
   "cell_type": "code",
   "execution_count": 27,
   "metadata": {},
   "outputs": [],
   "source": [
    "def predict_sentiment(text):\n",
    "    # Step 1: Encode the input text to get embeddings\n",
    "    text_vectorized = embedding_model.encode([text])\n",
    "    \n",
    "    # Step 2: Load the logistic regression model\n",
    "    try:\n",
    "        modelo_LR = joblib.load('models/modelo_sentimientos.pkl')\n",
    "    except:\n",
    "        print(\"No se ha encontrado el modelo, correr el notebook de clasificacion\")\n",
    "    \n",
    "    # Step 3: Predict the sentiment\n",
    "    sentiment_class = modelo_LR.predict(text_vectorized)[0]\n",
    "    \n",
    "    # Step 4: Map the sentiment class to a label\n",
    "    labels = {0: \"Melancolico\", 1: \"Ni fu Ni fa\", 2: \"Alegre\"}\n",
    "    sentiment_label = labels[sentiment_class]\n",
    "    \n",
    "    return sentiment_label"
   ]
  },
  {
   "cell_type": "code",
   "execution_count": 28,
   "metadata": {},
   "outputs": [],
   "source": [
    "def get_recommendation(prompt):\n",
    "    # Step 1: Load the recommendation model\n",
    "    try:\n",
    "        modelo_recomendacion = joblib.load('models/modelo_recomendaciones.pkl')\n",
    "    except:\n",
    "        print(\"No se ha encontrado el modelo, correr el notebook de recomendacion\")\n",
    "    \n",
    "    # Encode descriptions\n",
    "    juegos_embeddings = modelo_recomendacion.encode(juegos['description'].tolist(), convert_to_tensor=True)\n",
    "    libros_embeddings = modelo_recomendacion.encode(libros['description'].tolist(), convert_to_tensor=True)\n",
    "    peliculas_embeddings = modelo_recomendacion.encode(peliculas['description'].tolist(), convert_to_tensor=True)\n",
    "    \n",
    "    # Encode user prompt\n",
    "    user_embedding = modelo_recomendacion.encode(prompt, convert_to_tensor=True)\n",
    "    \n",
    "    # Calculate cosine similarities\n",
    "    coseno_juegos = util.cos_sim(user_embedding, juegos_embeddings)[0]\n",
    "    coseno_libros = util.cos_sim(user_embedding, libros_embeddings)[0]\n",
    "    coseno_peliculas = util.cos_sim(user_embedding, peliculas_embeddings)[0]\n",
    "    \n",
    "    # Get top recommendations\n",
    "    index_juego = coseno_juegos.argsort(descending=True)[0].item()\n",
    "    index_libro = coseno_libros.argsort(descending=True)[0].item()\n",
    "    index_pelicula = coseno_peliculas.argsort(descending=True)[0].item()\n",
    "    \n",
    "    # Extract recommendations\n",
    "    recomendacion_juego = (juegos['title'].iloc[index_juego], coseno_juegos[index_juego].item())\n",
    "    recomendacion_libro = (libros['title'].iloc[index_libro], coseno_libros[index_libro].item())\n",
    "    recomendacion_pelicula = (peliculas['title'].iloc[index_pelicula], coseno_peliculas[index_pelicula].item())\n",
    "    return recomendacion_juego, recomendacion_libro, recomendacion_pelicula\n"
   ]
  },
  {
   "cell_type": "code",
   "execution_count": null,
   "metadata": {},
   "outputs": [
    {
     "data": {
      "application/vnd.jupyter.widget-view+json": {
       "model_id": "c0014990c957481bb9d0b1ccf1d3d410",
       "version_major": 2,
       "version_minor": 0
      },
      "text/plain": [
       "Textarea(value='Hola, ¿Cómo estás?', description='Predictor:', disabled=True, layout=Layout(width='100%'))"
      ]
     },
     "metadata": {},
     "output_type": "display_data"
    },
    {
     "data": {
      "application/vnd.jupyter.widget-view+json": {
       "model_id": "18675c313b4542a8992f657479c0fae1",
       "version_major": 2,
       "version_minor": 0
      },
      "text/plain": [
       "Text(value='', layout=Layout(width='100%'), placeholder='Escriba una respuesta')"
      ]
     },
     "metadata": {},
     "output_type": "display_data"
    },
    {
     "data": {
      "application/vnd.jupyter.widget-view+json": {
       "model_id": "a96dd774b75e4b9794a3b76fdb567e9e",
       "version_major": 2,
       "version_minor": 0
      },
      "text/plain": [
       "Button(description='Responder', style=ButtonStyle())"
      ]
     },
     "metadata": {},
     "output_type": "display_data"
    },
    {
     "data": {
      "application/vnd.jupyter.widget-view+json": {
       "model_id": "f466a2c21a1f46808ea826278df99b4b",
       "version_major": 2,
       "version_minor": 0
      },
      "text/plain": [
       "Output()"
      ]
     },
     "metadata": {},
     "output_type": "display_data"
    }
   ],
   "source": [
    "\n",
    "# Define text areas and buttons\n",
    "initial_prompt = widgets.Textarea(\n",
    "    description='Predictor:',\n",
    "    value='Hola, ¿Cómo estás?',\n",
    "    layout=widgets.Layout(width='100%'),\n",
    "    disabled=True\n",
    ")\n",
    "\n",
    "followup_prompt = widgets.Textarea(\n",
    "    description='Predictor:',\n",
    "    value='Parece que te estás sintiendo reemplazarPorSentimiento. ¿Qué temas te gustaría explorar?',\n",
    "    disabled=True,\n",
    "    layout=widgets.Layout(width='100%')\n",
    ")\n",
    "\n",
    "user_initial_input = widgets.Text(\n",
    "    placeholder='Escriba una respuesta',\n",
    "    layout=widgets.Layout(width='100%'),\n",
    "    disabled=False\n",
    ")\n",
    "\n",
    "user_followup_input = widgets.Text(\n",
    "    placeholder='Escriba una respuesta',\n",
    "    layout=widgets.Layout(width='100%'),\n",
    "    disabled=False\n",
    ")\n",
    "\n",
    "button_initial = widgets.Button(description='Responder')\n",
    "button_followup = widgets.Button(description='Responder')\n",
    "output = widgets.Output()\n",
    "\n",
    "recommendation_display = widgets.Textarea(\n",
    "    description='Predictor:',\n",
    "    layout=widgets.Layout(width='100%'),\n",
    "    disabled=True\n",
    ")\n",
    "\n",
    "\n",
    "\n",
    "# Callback for initial response\n",
    "def on_initial_button_clicked(b):\n",
    "    with output:\n",
    "        button_initial.layout.display = 'none'\n",
    "        output.clear_output()\n",
    "        sentiment = predict_sentiment(user_initial_input.value)\n",
    "        print(f\"Tu estado de ánimo es: {sentiment}\")\n",
    "        followup_prompt.value = followup_prompt.value.replace('reemplazarPorSentimiento', sentiment.lower())\n",
    "        display(followup_prompt)\n",
    "        display(user_followup_input)\n",
    "        display(button_followup)\n",
    "\n",
    "# Callback for follow-up response\n",
    "def on_followup_button_clicked(b):\n",
    "    with output:\n",
    "        button_followup.layout.display = 'none'\n",
    "        prompt = user_followup_input.value\n",
    "        juego, libro, pelicula = get_recommendation(prompt)\n",
    "        recommendation_display.value = f\"Genial! te recomendamos probar el juego {juego[0]}, leer el libro {libro[0]} o ver la película {pelicula[0]}\"\n",
    "        display(recommendation_display)\n",
    "\n",
    "# Bind buttons to callbacks\n",
    "button_initial.on_click(on_initial_button_clicked)\n",
    "button_followup.on_click(on_followup_button_clicked)\n",
    "\n",
    "# Display initial prompt and input\n",
    "display(initial_prompt)\n",
    "display(user_initial_input)\n",
    "display(button_initial)\n",
    "display(output)\n"
   ]
  }
 ],
 "metadata": {
  "kernelspec": {
   "display_name": ".venv",
   "language": "python",
   "name": "python3"
  },
  "language_info": {
   "codemirror_mode": {
    "name": "ipython",
    "version": 3
   },
   "file_extension": ".py",
   "mimetype": "text/x-python",
   "name": "python",
   "nbconvert_exporter": "python",
   "pygments_lexer": "ipython3",
   "version": "3.12.6"
  }
 },
 "nbformat": 4,
 "nbformat_minor": 2
}
