{
 "cells": [
  {
   "cell_type": "code",
   "execution_count": null,
   "metadata": {},
   "outputs": [],
   "source": [
    "import pandas as pd\n",
    "import unicodedata"
   ]
  },
  {
   "cell_type": "markdown",
   "metadata": {},
   "source": [
    "## Procesamiento"
   ]
  },
  {
   "cell_type": "code",
   "execution_count": null,
   "metadata": {},
   "outputs": [],
   "source": [
    "dataset_juegos = pd.read_csv('./databases/bgg_database.csv')\n",
    "dataset_peliculas = pd.read_csv('./databases/IMDB-Movie-Data.csv')\n",
    "dataset_libros = pd.read_csv('./databases/libros_bd.csv')"
   ]
  },
  {
   "cell_type": "code",
   "execution_count": null,
   "metadata": {},
   "outputs": [],
   "source": [
    "dataset_juegos.isnull().sum()"
   ]
  },
  {
   "cell_type": "code",
   "execution_count": null,
   "metadata": {},
   "outputs": [],
   "source": [
    "dataset_juegos.info()"
   ]
  },
  {
   "cell_type": "code",
   "execution_count": null,
   "metadata": {},
   "outputs": [],
   "source": [
    "dataset_juegos.head()"
   ]
  },
  {
   "cell_type": "code",
   "execution_count": null,
   "metadata": {},
   "outputs": [],
   "source": [
    "print(dataset_juegos.description[0])\n",
    "dataset_juegos['description'] = dataset_juegos['description'].apply(lambda descripcion: descripcion.replace('\\n', ' '))\n",
    "print(dataset_juegos.description[0])"
   ]
  },
  {
   "cell_type": "code",
   "execution_count": null,
   "metadata": {},
   "outputs": [],
   "source": [
    "print(dataset_juegos.categories[120])\n",
    "dataset_juegos['categories'] = dataset_juegos['categories'].apply(lambda categorie: categorie.replace(\"'\", '').replace('[', '').replace(']', '').lower().split(','))\n"
   ]
  },
  {
   "cell_type": "code",
   "execution_count": null,
   "metadata": {},
   "outputs": [],
   "source": [
    "dataset_juegos.categories[120]"
   ]
  },
  {
   "cell_type": "code",
   "execution_count": null,
   "metadata": {},
   "outputs": [],
   "source": [
    "print(dataset_juegos.designers[120])\n",
    "dataset_juegos['designers'] = dataset_juegos['designers'].apply(lambda categorie: categorie.replace(\"'\", '').replace('[', '').replace(']', '').lower().split(','))\n",
    "print(dataset_juegos.designers[120])"
   ]
  },
  {
   "cell_type": "code",
   "execution_count": null,
   "metadata": {},
   "outputs": [],
   "source": [
    "dataset_juegos_procesados = pd.DataFrame({\n",
    "    'title': dataset_juegos['game_name'],\n",
    "    'description': dataset_juegos.apply(\n",
    "        lambda row: f\"Title: {row['game_name']}, description: {row['description']}\", axis=1),\n",
    "    'directors': dataset_juegos['designers'],\n",
    "    'categories': dataset_juegos['categories'],\n",
    "    'year': dataset_juegos['yearpublished'],\n",
    "    'minplayers':dataset_juegos['minplayers'],\n",
    "    'maxplayers':dataset_juegos['maxplayers']\n",
    "})\n",
    "dataset_juegos_procesados.head()"
   ]
  },
  {
   "cell_type": "code",
   "execution_count": null,
   "metadata": {},
   "outputs": [],
   "source": [
    "dataset_peliculas.isnull().sum()"
   ]
  },
  {
   "cell_type": "code",
   "execution_count": null,
   "metadata": {},
   "outputs": [],
   "source": [
    "dataset_peliculas.head()"
   ]
  },
  {
   "cell_type": "code",
   "execution_count": null,
   "metadata": {},
   "outputs": [],
   "source": [
    "print(dataset_peliculas.Genre[0])\n",
    "dataset_peliculas['Genre'] = dataset_peliculas['Genre'].apply(lambda categorie: categorie.replace(\"'\", '').replace('[', '').replace(']', '').lower().split(','))\n",
    "print(dataset_peliculas.Genre[0])"
   ]
  },
  {
   "cell_type": "code",
   "execution_count": null,
   "metadata": {},
   "outputs": [],
   "source": [
    "print(dataset_peliculas.Actors[0])\n",
    "dataset_peliculas['Actors'] = dataset_peliculas['Actors'].apply(lambda categorie: categorie.replace(\"'\", '').replace('[', '').replace(']', '').lower().split(','))\n",
    "print(dataset_peliculas.Actors[0])"
   ]
  },
  {
   "cell_type": "code",
   "execution_count": null,
   "metadata": {},
   "outputs": [],
   "source": [
    "dataset_peliculas.Description[670]"
   ]
  },
  {
   "cell_type": "code",
   "execution_count": null,
   "metadata": {},
   "outputs": [],
   "source": [
    "dataset_peliculas_procesados = pd.DataFrame({\n",
    "    'title': dataset_peliculas['Title'],\n",
    "    'description': dataset_peliculas.apply(\n",
    "        lambda row: f\"title: {row['Title']} ,Description: {row['Description']}\", axis=1),\n",
    "    'director': dataset_peliculas['Director'],\n",
    "    'year': dataset_peliculas['Year'],\n",
    "    'actors': dataset_peliculas['Actors'],\n",
    "    'categories': dataset_peliculas['Genre']\n",
    "    \n",
    "})\n",
    "dataset_peliculas_procesados.head()"
   ]
  },
  {
   "cell_type": "code",
   "execution_count": null,
   "metadata": {},
   "outputs": [],
   "source": [
    "dataset_libros"
   ]
  },
  {
   "cell_type": "code",
   "execution_count": null,
   "metadata": {},
   "outputs": [],
   "source": [
    "dataset_libros.isnull().sum()"
   ]
  },
  {
   "cell_type": "code",
   "execution_count": null,
   "metadata": {},
   "outputs": [],
   "source": [
    "#Elimino los libros que no tienen descripcion ya que no se puede determinar su tematica\n",
    "dataset_libros = dataset_libros.dropna()"
   ]
  },
  {
   "cell_type": "code",
   "execution_count": null,
   "metadata": {},
   "outputs": [],
   "source": [
    "dataset_libros['Author'] =  dataset_libros['Author'].apply(lambda categorie: categorie.lower())"
   ]
  },
  {
   "cell_type": "code",
   "execution_count": null,
   "metadata": {},
   "outputs": [],
   "source": [
    "dataset_libros_procesados = pd.DataFrame({\n",
    "    'title': dataset_libros['Title'],\n",
    "    'description': dataset_libros.apply(\n",
    "        lambda row: f\"description: {row['Description']}\", axis=1),\n",
    "    'director': dataset_libros['Author'],\n",
    "    'categories': dataset_libros['Genre']\n",
    "})\n",
    "dataset_libros_procesados.head()"
   ]
  },
  {
   "cell_type": "code",
   "execution_count": null,
   "metadata": {},
   "outputs": [],
   "source": [
    "dataset_juegos_procesados.to_csv('./databases/juegos_procesados.csv', index=False)\n",
    "dataset_peliculas_procesados.to_csv('./databases/peliculas_procesados.csv', index=False)\n",
    "dataset_libros_procesados.to_csv('./databases/libros_procesados.csv', index=False)"
   ]
  },
  {
   "cell_type": "code",
   "execution_count": null,
   "metadata": {},
   "outputs": [],
   "source": [
    "datos_melancolia = [\n",
    "(0,'Me siento un poco nostálgico hoy.'),\n",
    "(0,'Todo parece tan gris, como si algo faltara.'),\n",
    "(0,'No tengo ganas de hacer nada, estoy algo decaído.'),\n",
    "(0,'Echo de menos esos tiempos felices que ya no volverán.'),\n",
    "(0,'Me invade una sensación de tristeza, sin motivo aparente.'),\n",
    "(0,'Hoy fue el peor dia, un dia de mierda'),\n",
    "(0,'Me siento un poco perdido hoy, como si algo faltara, siento melancolia.'),\n",
    "(0,'Es uno de esos días donde la tristeza aparece sin razón.'),\n",
    "(0,'No encuentro motivación para hacer nada, me siento , como si fuera a perder algo.'),\n",
    "(0,'Mi mente está llena de recuerdos tristes.'),\n",
    "(0,'Siento que estoy atrapado en un ciclo de nostalgia.'),\n",
    "(0,'Me invade una tristeza que no puedo explicar.'),\n",
    "(0,'Hoy siento un vacío en el pecho, sin saber por qué, debe ser melancolia.'),\n",
    "(0,'El día está apagado, como mi estado de ánimo.'),\n",
    "(0,'No logro deshacerme de este sentimiento de pesadumbre, melancolico.'),\n",
    "(0,'No encuentro consuelo en nada, todo parece sombrío.'),\n",
    "(0,'Estoy decaído, es un dia gris'),\n",
    "(0,'Mis pensamientos están envueltos en una bruma de tristeza.'),\n",
    "(0,'Hoy siento un peso en el corazón que no puedo soltar.'),\n",
    "(0,'Todo parece distante, como si estuviera desconectado.'),\n",
    "(0,'Mi alma está llena de añoranza por lo que no tengo.'),\n",
    "(0,'Siento que nada me anima, estoy sumido en una profunda melancolía.'),\n",
    "(0,'Mis pensamientos están pesados, todo parece sombrío, estoy muy perdido.'),\n",
    "(0,'Me siento atrapado en un estado de tristeza continua.'),\n",
    "(0,'La vida parece haber perdido su color hoy.'),\n",
    "(0,'terrible dia la pase mal'),\n",
    "(0,'Estoy triste, me siento gris'),\n",
    "(0,'Todo para atras, no paro de perder'),\n",
    "(0,'Agoviado, con mucha tristeza'),\n",
    "(0,'Me siento nostalgico'),\n",
    "(0,'Quiero llorar,estoy muy triste'),\n",
    "(0,'El peor dia'),\n",
    "(0, 'Me siento un poco nostálgico hoy, melancolico.'),\n",
    "(0, 'Me siento atrapado en pensamientos del pasado, sin poder avanzar.'),\n",
    "(0, 'Hoy siento que los recuerdos pesan más que de costumbre.'),\n",
    "(0, 'Hoy siento una tristeza suave que no puedo explicar.'),\n",
    "(0, 'Mi día fue una sucesión de momentos vacíos que no dejaron huella.'),\n",
    "(0, 'Hoy fue uno de esos días en los que todo parece distante y ajeno.'),\n",
    "(0, 'El día de hoy fue un recordatorio de lo que ya no está conmigo.'),\n",
    "(0,'El peor dia de mi vida, fue terrible el dia de hoy'),\n",
    "(0, 'Hoy fue un día en el que los pensamientos del pasado no me dejaron en paz.'),\n",
    "(0, 'Me siento envuelto en una melancolía que no logro sacudirme.'),\n",
    "(0, 'Me siento como si estuviera caminando por un camino que ya recorrí antes, pero ahora está vacío.'),\n",
    "(0, 'Hoy siento que el tiempo pasa, pero yo me quedo en el mismo lugar, melancolico.'),\n",
    "(0, 'Mi día fue un conjunto de silencios y suspiros.'),\n",
    "(0, 'Hoy fue uno de esos días en los que todo parece perder sentido.'),\n",
    "(0, 'El día de hoy fue tan gris como el cielo que lo acompañó.'),\n",
    "(0, 'Hoy siento que las pequeñas alegrías del pasado se desvanecen cada vez más.'),\n",
    "(0, 'Me siento como si estuviera mirando el mundo a través de una ventana cerrada, me siento perdido.'),\n",
    "(0, 'Hoy siento que lo que más extraño no es algo, sino alguien que ya no está.'),\n",
    "(0, 'Mi día fue una constante lucha contra la sensación de vacío.'),\n",
    "(0, 'El día de hoy fue como un eco lejano de tiempos mejores.'),\n",
    "(0, 'Hoy fue un día en el que los recuerdos felices me hicieron sentir solo.'),\n",
    "(0,'Estoy harto hoy fue un dia de mierda'),\n",
    "(0,'terrible el dia de hoy'),\n",
    "]\n",
    "\n",
    "datos_nifunifa = [\n",
    "(1,'Estoy tranquilo, sin nada que me afecte.'),\n",
    "(1,'No siento nada por lo que está pasando, todo es normal.'),\n",
    "(1,'Hoy no hay mucho que contar.'),\n",
    "(1,'Estoy en piloto automático.'),\n",
    "(1,'Estoy en un estado neutro ni bien ni mal.'),\n",
    "(1,'El día ha pasado sin grandes eventos.'),\n",
    "(1,'No sé, simplemente me siento neutral, ni fu ni fa.'),\n",
    "(1,'simplemente estoy igual que siempre.'),\n",
    "(1,'Todo está igual que siempre.'),\n",
    "(1,'Hoy ha sido un día sin altibajos, simplemente normal.'),\n",
    "(1,'Nada me molesta, pero tampoco nada me entusiasma.'),\n",
    "(1,'Estoy en un punto medio, no hay mucho que decir sobre cómo me siento.'),\n",
    "(1,'Hoy ha sido un día igual que los demás, ni fu ni fa.'),\n",
    "(1,'No tengo ningún sentimiento en particular.'),\n",
    "(1,'Me siento bastante indiferente hacia lo que pasa.'),\n",
    "(1,'Estoy neutral,Todo sigue igual, ni bien ni mal.'),\n",
    "(1,'Me encuentro en un estado de tranquilidad sin mucha emoción.'),\n",
    "(1,'No siento mucho entusiasmo ni desgano, solo estoy.'),\n",
    "(1,'Nada me preocupa hoy, pero tampoco estoy emocionado por nada.'),\n",
    "(1,'Estoy neutral,El día es simplemente uno más, sin sorpresas.'),\n",
    "(1,'Estoy en un estado neutro, ni fu ni fa.'),\n",
    "(1,'Hoy fue un día más, nada especial.'),\n",
    "(1,'No siento ni mucha emoción ni tristeza, todo está normal.'),\n",
    "(1,'Estoy neutral, no me afecta demasiado lo que sucede.'),\n",
    "(1,'Es solo otro día como cualquier otro, sin nada destacable.'),\n",
    "(1,'Me siento bastante indiferente, ni bien ni mal.'),\n",
    "(1,'No tengo ganas de hacer nada'),\n",
    "(1,'Lo mismo de siempre'),\n",
    "(1,'como mismo de siempre'),\n",
    "(1,'No quiero hacer nada hoy'),\n",
    "(1, 'Me siento igual que cualquier otro día, sin mucho que destacar.'),\n",
    "(1, 'Hoy siento que todo pasó sin mayor emoción, solo otro día más.'),\n",
    "(1, 'Mi día fue bastante normal, sin nada fuera de lo común.'),\n",
    "(1, 'Hoy fue uno de esos días en los que no pasó nada interesante.'),\n",
    "(1,'Me siente neutro no me importa nada.'),\n",
    "(1, 'El día de hoy fue completamente ordinario, sin altos ni bajos.'),\n",
    "(1, 'Me siento como si el día simplemente hubiera pasado, sin dejar nada detrás.'),\n",
    "(1, 'Hoy siento que fue solo otro día más, ni bueno ni malo.'),\n",
    "(1, 'Mi día fue rutinario, sin nada que realmente me moviera.'),\n",
    "(1, 'Hoy fue un día como cualquier otro, sin nada especial que recordar.'),\n",
    "(1, 'El día de hoy fue exactamente como ayer, sin sorpresas ni emociones.'),\n",
    "(1, 'Me siento neutral, nada fuera de lo común hoy.'),\n",
    "(1, 'Hoy siento que fue un día cualquiera, sin nada que destacar.'),\n",
    "(1, 'Mi día fue una sucesión de tareas normales, nada emocionante.'),\n",
    "(1, 'Hoy fue uno de esos días que simplemente pasan, sin dejar huella.'),\n",
    "(1, 'El día de hoy fue un día más en la rutina, sin altibajos.'),\n",
    "(1, 'Me siento como si el día hubiera pasado desapercibido, sin nada memorable.'),\n",
    "(1, 'Hoy siento que no hubo nada que realmente me impactara, un día más.'),\n",
    "(1, 'Mi día fue como cualquier otro, sin nada que destacar.'),\n",
    "(1, 'El día de hoy fue una jornada tranquila, ni buena ni mala.'),\n",
    "(1, 'Hoy fue un día bastante plano, sin nada que me haya movido emocionalmente.')\n",
    "]\n",
    "datos_alegria = [\n",
    "(2,'Hoy es un día espectacular, ¡me siento increíble!'),\n",
    "(2,'Estoy muy emocionado por todo lo que está pasando.'),\n",
    "(2,'Solo me pasan cosas buenas ultimamente.'),\n",
    "(2,'Hoy quiero hacer algo divertido y pasarla bien'),\n",
    "(2,'¡Qué felicidad! Todo está saliendo a la perfección.'),\n",
    "(2,'No puedo dejar de sonreír, ¡estoy tan contento!'),\n",
    "(2,'Me siento lleno de energía y entusiasmo.'),\n",
    "(2,'Estoy tan contento que podría volar.'),\n",
    "(2,'Todo me sale bien hoy, ¡qué alegría!'),\n",
    "(2,'Me siento afortunado de tener un día tan bueno.'),\n",
    "(2,'¡Es un gran día! Me siento lleno de vida.'),\n",
    "(2,'Qué buen humor tengo, nada me molesta, espero divertirme.'),\n",
    "(2,'Me siento entusiasmado por todo lo que está por venir.'),\n",
    "(2,'¡Todo es perfecto hoy!'),\n",
    "(2,'Me levante de buen humor y todo sigue igual de bien.'),\n",
    "(2,'Estoy lleno de optimismo y energía.'),\n",
    "(2,'Hoy todo me hace sonreír.'),\n",
    "(2,'¡Qué bien se siente cuando todo sale como quieres!'),\n",
    "(2,'Siento una felicidad indescriptible.'),\n",
    "(2,'Me encanta cómo está saliendo el día, es un exito total.'),\n",
    "(2,'¡me siento increíble!'),\n",
    "(2,'Hoy estoy disfrutando cada momento.'),\n",
    "(2,'¡Todo es tan positivo hoy!, este dia es un exito total'),\n",
    "(2, 'Me diverti mucho hoy estubo genial.'),\n",
    "(2,'Me siento afortunado de tener un día tan bueno.'),\n",
    "(2,'¡Qué bien se siente estar tan alegre!'),\n",
    "(2,'Todo está yendo a la perfección, ¡me siento fenomenal!'),\n",
    "(2,'Estoy muy contento.'),\n",
    "(2,'Quiero hacer algo divertido el día de hoy.'),\n",
    "(2,'Me siento muy afortunado.'),\n",
    "(2,'Solo me pasan cosas buenas.'),\n",
    "(2,'Hoy fue un hermoso día.'),\n",
    "(2,'Estoy muy agradecido por todo me pasa.'),\n",
    "(2, 'Me siento lleno de energía y optimismo hoy.'),\n",
    "(2, 'Hoy siento que todo salió de maravilla, no podría estar más contento.'),\n",
    "(2, 'Todo cool, todo genial.'),\n",
    "(2, 'Mi día fue increíble, lleno de buenos momentos y sonrisas.'),\n",
    "(2, 'Hoy fue uno de esos días en los que todo parece brillar un poco más.'),\n",
    "(2, 'El día de hoy fue espectacular, cada pequeña cosa me llenó de felicidad.'),\n",
    "(2, 'Me siento feliz, como si todo estuviera en su lugar.'),\n",
    "(2,'hoy me pasaron cosas buenas, estoy muy contento.'),\n",
    "(2, 'Hoy siento que el mundo está lleno de posibilidades y sonrisas.'),\n",
    "(2, 'Mi día fue perfecto, lleno de sorpresas agradables y risas.'),\n",
    "(2, 'Hoy fue un día lleno de luz y alegría, nada podría haberlo arruinado.'),\n",
    "(2, 'El día de hoy fue increíble, cada momento fue mejor que el anterior.'),\n",
    "(2, 'Me siento realmente feliz, como si nada pudiera salir mal hoy.'),\n",
    "(2, 'Hoy siento una alegría que no puedo explicar, todo ha sido maravilloso.'),\n",
    "(2, 'Mi día fue estupendo, lleno de momentos que me hicieron sonreír.'),\n",
    "(2, 'Hoy fue uno de esos días en los que todo sale bien, desde el principio hasta el final.'),\n",
    "(2, 'El día de hoy fue un éxito total, fue muy divertido'),\n",
    "(2, 'Me siento agradecido por este día tan bueno, ha sido perfecto.'),\n",
    "(2,'Con ansias de hacer algo divertido.'),\n",
    "(2, 'Hoy siento que todo es posible, ha sido un día lleno de alegría.'),\n",
    "(2, 'Mi día fue fantástico, lleno de momentos felices y encuentros agradables.'),\n",
    "(2, 'El día de hoy fue maravilloso, no paré de sonreír en todo momento.'),\n",
    "(2, 'Hoy fue un día lleno de alegría y felicidad, lo recordaré siempre.'),\n",
    "(2, 'Todo cool, hoy fue un dia genial.'),\n",
    "(2, 'Genial hoy fue un dia muy cool.'),\n",
    "]\n",
    "\n",
    "def procesar_lista(lista):\n",
    "    nueva_lista = []\n",
    "    for numero, string in lista:\n",
    "        string = string.replace('!', '').replace('¡', '').lower()\n",
    "        # Quitar acentos\n",
    "        string = unicodedata.normalize('NFKD', string).encode('ascii', 'ignore').decode('utf-8')\n",
    "        nueva_lista.append((numero,string))\n",
    "    return nueva_lista\n",
    "datos_melancolia = procesar_lista(datos_melancolia)\n",
    "datos_nifunifa = procesar_lista(datos_nifunifa)\n",
    "datos_alegria = procesar_lista(datos_alegria)"
   ]
  },
  {
   "cell_type": "code",
   "execution_count": null,
   "metadata": {},
   "outputs": [],
   "source": [
    "datos_sentimientos = datos_melancolia + datos_nifunifa +datos_alegria\n",
    "sentimientos = pd.DataFrame(datos_sentimientos, columns=['clase', 'frase'])\n",
    "sentimientos.to_csv('./databases/sentimientos.csv', index=False)"
   ]
  }
 ],
 "metadata": {
  "kernelspec": {
   "display_name": ".venv",
   "language": "python",
   "name": "python3"
  },
  "language_info": {
   "codemirror_mode": {
    "name": "ipython",
    "version": 3
   },
   "file_extension": ".py",
   "mimetype": "text/x-python",
   "name": "python",
   "nbconvert_exporter": "python",
   "pygments_lexer": "ipython3",
   "version": "3.11.2"
  }
 },
 "nbformat": 4,
 "nbformat_minor": 2
}
